{
 "cells": [
  {
   "cell_type": "code",
   "execution_count": 1,
   "id": "athletic-glasgow",
   "metadata": {},
   "outputs": [],
   "source": [
    "import pandas as pd\n",
    "import numpy as np \n",
    "import matplotlib.pyplot as plt"
   ]
  },
  {
   "cell_type": "code",
   "execution_count": 2,
   "id": "certain-think",
   "metadata": {},
   "outputs": [
    {
     "name": "stdout",
     "output_type": "stream",
     "text": [
      "[0.0225   0.0225   0.0225   0.0225   0.013375 0.013375 0.013375 0.013375\n",
      " 0.007958 0.007958 0.007958 0.007958 0.014167 0.014167 0.014167 0.014167\n",
      " 0.006667 0.006667 0.006667 0.006667 0.01175  0.01175  0.01175  0.01175\n",
      " 0.011625 0.011625 0.011625 0.011625 0.00975  0.00975  0.00975  0.00975\n",
      " 0.010792 0.010792 0.010792 0.010792 0.008458 0.008458 0.008458 0.008458\n",
      " 0.008417 0.008417 0.008417 0.008417 0.008208 0.008208 0.008208 0.008208\n",
      " 0.006167 0.006167 0.006167 0.006167 0.008708 0.008708 0.008708 0.008708\n",
      " 0.010625 0.010625 0.010625 0.010625 0.01075  0.01075  0.01075  0.01075\n",
      " 0.008375 0.008375 0.008375 0.008375 0.006333 0.006333 0.006333 0.006333\n",
      " 0.006958 0.006958 0.006958 0.006958 0.0085   0.0085   0.0085   0.0085\n",
      " 0.008542 0.008542 0.008542 0.008542 0.010583 0.010583 0.010583 0.010583\n",
      " 0.016292 0.016292 0.016292 0.016292 0.011417 0.011417 0.011417 0.011417\n",
      " 0.009917 0.009917 0.009917 0.009917]\n"
     ]
    }
   ],
   "source": [
    "dataset = pd.read_csv('DataSet/o3.csv', parse_dates=['Date Local'])\n",
    "date = dataset[\"Date Local\"]\n",
    "means = dataset.iloc[:, 2].values\n",
    "print(means)"
   ]
  },
  {
   "cell_type": "code",
   "execution_count": 3,
   "id": "valued-maryland",
   "metadata": {},
   "outputs": [],
   "source": [
    "def wrangle(df):\n",
    "    \n",
    "    df[\"Date Local\"]=pd.to_datetime(df[\"Date Local\"])\n",
    "    df[\"Month\"]=df[\"Date Local\"].dt.month\n",
    "    df[\"Year\"]=df[\"Date Local\"].dt.year\n",
    "    df=df.drop(\"Date Local\",axis=1)\n",
    "    df=df.drop(\"Month\",axis=1)\n",
    "    df=df[df.Year>=1850]\n",
    "    df=df.set_index(['Year'])\n",
    "    #date=df.iloc[:,:0]\n",
    "    \n",
    "    \n",
    "    df=df.dropna()\n",
    "    \n",
    "    return df"
   ]
  },
  {
   "cell_type": "code",
   "execution_count": 4,
   "id": "abroad-nylon",
   "metadata": {},
   "outputs": [],
   "source": [
    "dataset = wrangle(dataset)"
   ]
  },
  {
   "cell_type": "code",
   "execution_count": 5,
   "id": "respiratory-cross",
   "metadata": {},
   "outputs": [
    {
     "data": {
      "text/html": [
       "<div>\n",
       "<style scoped>\n",
       "    .dataframe tbody tr th:only-of-type {\n",
       "        vertical-align: middle;\n",
       "    }\n",
       "\n",
       "    .dataframe tbody tr th {\n",
       "        vertical-align: top;\n",
       "    }\n",
       "\n",
       "    .dataframe thead th {\n",
       "        text-align: right;\n",
       "    }\n",
       "</style>\n",
       "<table border=\"1\" class=\"dataframe\">\n",
       "  <thead>\n",
       "    <tr style=\"text-align: right;\">\n",
       "      <th></th>\n",
       "      <th>O3 Units</th>\n",
       "      <th>O3 Mean</th>\n",
       "    </tr>\n",
       "    <tr>\n",
       "      <th>Year</th>\n",
       "      <th></th>\n",
       "      <th></th>\n",
       "    </tr>\n",
       "  </thead>\n",
       "  <tbody>\n",
       "    <tr>\n",
       "      <th>1917</th>\n",
       "      <td>Parts per million</td>\n",
       "      <td>0.022500</td>\n",
       "    </tr>\n",
       "    <tr>\n",
       "      <th>1918</th>\n",
       "      <td>Parts per million</td>\n",
       "      <td>0.022500</td>\n",
       "    </tr>\n",
       "    <tr>\n",
       "      <th>1919</th>\n",
       "      <td>Parts per million</td>\n",
       "      <td>0.022500</td>\n",
       "    </tr>\n",
       "    <tr>\n",
       "      <th>1920</th>\n",
       "      <td>Parts per million</td>\n",
       "      <td>0.022500</td>\n",
       "    </tr>\n",
       "    <tr>\n",
       "      <th>1921</th>\n",
       "      <td>Parts per million</td>\n",
       "      <td>0.013375</td>\n",
       "    </tr>\n",
       "    <tr>\n",
       "      <th>...</th>\n",
       "      <td>...</td>\n",
       "      <td>...</td>\n",
       "    </tr>\n",
       "    <tr>\n",
       "      <th>2012</th>\n",
       "      <td>Parts per million</td>\n",
       "      <td>0.011417</td>\n",
       "    </tr>\n",
       "    <tr>\n",
       "      <th>2013</th>\n",
       "      <td>Parts per million</td>\n",
       "      <td>0.009917</td>\n",
       "    </tr>\n",
       "    <tr>\n",
       "      <th>2014</th>\n",
       "      <td>Parts per million</td>\n",
       "      <td>0.009917</td>\n",
       "    </tr>\n",
       "    <tr>\n",
       "      <th>2015</th>\n",
       "      <td>Parts per million</td>\n",
       "      <td>0.009917</td>\n",
       "    </tr>\n",
       "    <tr>\n",
       "      <th>2016</th>\n",
       "      <td>Parts per million</td>\n",
       "      <td>0.009917</td>\n",
       "    </tr>\n",
       "  </tbody>\n",
       "</table>\n",
       "<p>100 rows × 2 columns</p>\n",
       "</div>"
      ],
      "text/plain": [
       "               O3 Units   O3 Mean\n",
       "Year                             \n",
       "1917  Parts per million  0.022500\n",
       "1918  Parts per million  0.022500\n",
       "1919  Parts per million  0.022500\n",
       "1920  Parts per million  0.022500\n",
       "1921  Parts per million  0.013375\n",
       "...                 ...       ...\n",
       "2012  Parts per million  0.011417\n",
       "2013  Parts per million  0.009917\n",
       "2014  Parts per million  0.009917\n",
       "2015  Parts per million  0.009917\n",
       "2016  Parts per million  0.009917\n",
       "\n",
       "[100 rows x 2 columns]"
      ]
     },
     "execution_count": 5,
     "metadata": {},
     "output_type": "execute_result"
    }
   ],
   "source": [
    "dataset"
   ]
  },
  {
   "cell_type": "code",
   "execution_count": 6,
   "id": "arctic-attempt",
   "metadata": {},
   "outputs": [
    {
     "name": "stdout",
     "output_type": "stream",
     "text": [
      "<class 'pandas.core.frame.DataFrame'>\n",
      "Int64Index: 100 entries, 1917 to 2016\n",
      "Data columns (total 2 columns):\n",
      " #   Column    Non-Null Count  Dtype  \n",
      "---  ------    --------------  -----  \n",
      " 0   O3 Units  100 non-null    object \n",
      " 1   O3 Mean   100 non-null    float64\n",
      "dtypes: float64(1), object(1)\n",
      "memory usage: 2.3+ KB\n"
     ]
    }
   ],
   "source": [
    "dataset.info()"
   ]
  },
  {
   "cell_type": "code",
   "execution_count": 7,
   "id": "after-reality",
   "metadata": {},
   "outputs": [],
   "source": [
    "dataset = dataset.drop(columns=['O3 Units'],axis=1)"
   ]
  },
  {
   "cell_type": "code",
   "execution_count": 8,
   "id": "saving-insulation",
   "metadata": {},
   "outputs": [
    {
     "name": "stdout",
     "output_type": "stream",
     "text": [
      "<class 'pandas.core.frame.DataFrame'>\n",
      "Int64Index: 100 entries, 1917 to 2016\n",
      "Data columns (total 1 columns):\n",
      " #   Column   Non-Null Count  Dtype  \n",
      "---  ------   --------------  -----  \n",
      " 0   O3 Mean  100 non-null    float64\n",
      "dtypes: float64(1)\n",
      "memory usage: 1.6 KB\n"
     ]
    }
   ],
   "source": [
    "dataset.info()"
   ]
  },
  {
   "cell_type": "code",
   "execution_count": 9,
   "id": "competitive-crack",
   "metadata": {},
   "outputs": [],
   "source": [
    "year_temp=[]\n",
    "for i in range(len(date)):\n",
    "    year_temp.append(date[i].year) \n",
    "year_temp = np.array(year_temp)\n",
    "year_temp = year_temp.reshape(-1, 1)\n"
   ]
  },
  {
   "cell_type": "code",
   "execution_count": 10,
   "id": "amino-selling",
   "metadata": {},
   "outputs": [],
   "source": [
    "from sklearn.model_selection import train_test_split\n",
    "X_train,X_test,y_train,y_test= train_test_split(year_temp,means,test_size=0.1,random_state=10)"
   ]
  },
  {
   "cell_type": "code",
   "execution_count": 11,
   "id": "settled-johnston",
   "metadata": {},
   "outputs": [
    {
     "data": {
      "text/plain": [
       "PolynomialFeatures(degree=3)"
      ]
     },
     "execution_count": 11,
     "metadata": {},
     "output_type": "execute_result"
    }
   ],
   "source": [
    "from sklearn.preprocessing import PolynomialFeatures\n",
    "from sklearn.linear_model import LinearRegression\n",
    "poly_reg = PolynomialFeatures(degree = 3)\n",
    "year_temp_poly = poly_reg.fit_transform(year_temp)\n",
    "poly_reg.fit(year_temp_poly, means)"
   ]
  },
  {
   "cell_type": "code",
   "execution_count": 12,
   "id": "central-helen",
   "metadata": {},
   "outputs": [
    {
     "data": {
      "text/plain": [
       "LinearRegression()"
      ]
     },
     "execution_count": 12,
     "metadata": {},
     "output_type": "execute_result"
    }
   ],
   "source": [
    "lin_reg_2 = LinearRegression()\n",
    "lin_reg_2.fit(year_temp_poly, means)"
   ]
  },
  {
   "cell_type": "code",
   "execution_count": 13,
   "id": "declared-button",
   "metadata": {},
   "outputs": [
    {
     "data": {
      "image/png": "[encoded data removed]",
      "text/plain": [
       "<Figure size 432x288 with 1 Axes>"
      ]
     },
     "metadata": {
      "needs_background": "light"
     },
     "output_type": "display_data"
    }
   ],
   "source": [
    "plt.scatter(year_temp, means, color = 'red',label=\"O3 Values PPM\")\n",
    "plt.plot(year_temp, lin_reg_2.predict(poly_reg.fit_transform(year_temp)), color = 'blue',label=\"Polynomial Regressor\")\n",
    "plt.title(\"Mean O3(PPM) Values 1917-2017\")\n",
    "plt.xlabel(\"Years\")\n",
    "plt.ylabel(\"O3(PPM) Values\")\n",
    "plt.legend(loc=\"upper left\")\n",
    "plt.show()"
   ]
  },
  {
   "cell_type": "code",
   "execution_count": 14,
   "id": "married-raleigh",
   "metadata": {},
   "outputs": [
    {
     "name": "stdout",
     "output_type": "stream",
     "text": [
      "The Mean Squared Error is  0.0\n"
     ]
    }
   ],
   "source": [
    "z = lin_reg_2.predict(poly_reg.fit_transform(year_temp))\n",
    "\n",
    "from sklearn.metrics import mean_squared_error\n",
    "print(\"The Mean Squared Error is \",round(mean_squared_error(means, z),4))\n",
    "\n",
    "#Mean Square Error"
   ]
  },
  {
   "cell_type": "code",
   "execution_count": 15,
   "id": "regular-calcium",
   "metadata": {},
   "outputs": [
    {
     "name": "stdout",
     "output_type": "stream",
     "text": [
      "[0.01038647]\n"
     ]
    }
   ],
   "source": [
    "print(lin_reg_2.predict(poly_reg.fit_transform([[2050]])))\n",
    "#print(dataset_2.loc[len(dataset_2)-1,\"ANNUAL\"])"
   ]
  },
  {
   "cell_type": "code",
   "execution_count": null,
   "id": "generous-delight",
   "metadata": {},
   "outputs": [],
   "source": []
  }
 ],
 "metadata": {
  "kernelspec": {
   "display_name": "Python 3",
   "language": "python",
   "name": "python3"
  },
  "language_info": {
   "codemirror_mode": {
    "name": "ipython",
    "version": 3
   },
   "file_extension": ".py",
   "mimetype": "text/x-python",
   "name": "python",
   "nbconvert_exporter": "python",
   "pygments_lexer": "ipython3",
   "version": "3.9.2"
  }
 },
 "nbformat": 4,
 "nbformat_minor": 5
}
