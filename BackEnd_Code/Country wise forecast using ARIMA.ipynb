{
 "cells": [
  {
   "cell_type": "code",
   "execution_count": 1,
   "id": "phantom-friday",
   "metadata": {},
   "outputs": [],
   "source": [
    "import pandas as pd\n",
    "import numpy as np\n",
    "import matplotlib.pylab as plt \n",
    "from matplotlib.backends.backend_agg import FigureCanvasAgg\n",
    "%matplotlib inline\n",
    "import seaborn as sns\n",
    "import warnings\n",
    "warnings.filterwarnings(\"ignore\")\n",
    "import mpld3\n",
    "from mpld3 import plugins\n",
    "import io\n",
    "import base64"
   ]
  },
  {
   "cell_type": "code",
   "execution_count": 2,
   "id": "comparable-facility",
   "metadata": {},
   "outputs": [],
   "source": [
    "df = pd.read_csv('DataSet/GlobalLandTemperaturesByCountry.csv', delimiter=',')"
   ]
  },
  {
   "cell_type": "code",
   "execution_count": 3,
   "id": "noticed-composite",
   "metadata": {},
   "outputs": [
    {
     "data": {
      "text/html": [
       "<div>\n",
       "<style scoped>\n",
       "    .dataframe tbody tr th:only-of-type {\n",
       "        vertical-align: middle;\n",
       "    }\n",
       "\n",
       "    .dataframe tbody tr th {\n",
       "        vertical-align: top;\n",
       "    }\n",
       "\n",
       "    .dataframe thead th {\n",
       "        text-align: right;\n",
       "    }\n",
       "</style>\n",
       "<table border=\"1\" class=\"dataframe\">\n",
       "  <thead>\n",
       "    <tr style=\"text-align: right;\">\n",
       "      <th></th>\n",
       "      <th>dt</th>\n",
       "      <th>AverageTemperature</th>\n",
       "      <th>AverageTemperatureUncertainty</th>\n",
       "      <th>Country</th>\n",
       "    </tr>\n",
       "  </thead>\n",
       "  <tbody>\n",
       "    <tr>\n",
       "      <th>0</th>\n",
       "      <td>1743-11-01</td>\n",
       "      <td>4.384</td>\n",
       "      <td>2.294</td>\n",
       "      <td>Åland</td>\n",
       "    </tr>\n",
       "    <tr>\n",
       "      <th>1</th>\n",
       "      <td>1743-12-01</td>\n",
       "      <td>NaN</td>\n",
       "      <td>NaN</td>\n",
       "      <td>Åland</td>\n",
       "    </tr>\n",
       "    <tr>\n",
       "      <th>2</th>\n",
       "      <td>1744-01-01</td>\n",
       "      <td>NaN</td>\n",
       "      <td>NaN</td>\n",
       "      <td>Åland</td>\n",
       "    </tr>\n",
       "    <tr>\n",
       "      <th>3</th>\n",
       "      <td>1744-02-01</td>\n",
       "      <td>NaN</td>\n",
       "      <td>NaN</td>\n",
       "      <td>Åland</td>\n",
       "    </tr>\n",
       "    <tr>\n",
       "      <th>4</th>\n",
       "      <td>1744-03-01</td>\n",
       "      <td>NaN</td>\n",
       "      <td>NaN</td>\n",
       "      <td>Åland</td>\n",
       "    </tr>\n",
       "    <tr>\n",
       "      <th>5</th>\n",
       "      <td>1744-04-01</td>\n",
       "      <td>1.530</td>\n",
       "      <td>4.680</td>\n",
       "      <td>Åland</td>\n",
       "    </tr>\n",
       "    <tr>\n",
       "      <th>6</th>\n",
       "      <td>1744-05-01</td>\n",
       "      <td>6.702</td>\n",
       "      <td>1.789</td>\n",
       "      <td>Åland</td>\n",
       "    </tr>\n",
       "    <tr>\n",
       "      <th>7</th>\n",
       "      <td>1744-06-01</td>\n",
       "      <td>11.609</td>\n",
       "      <td>1.577</td>\n",
       "      <td>Åland</td>\n",
       "    </tr>\n",
       "    <tr>\n",
       "      <th>8</th>\n",
       "      <td>1744-07-01</td>\n",
       "      <td>15.342</td>\n",
       "      <td>1.410</td>\n",
       "      <td>Åland</td>\n",
       "    </tr>\n",
       "    <tr>\n",
       "      <th>9</th>\n",
       "      <td>1744-08-01</td>\n",
       "      <td>NaN</td>\n",
       "      <td>NaN</td>\n",
       "      <td>Åland</td>\n",
       "    </tr>\n",
       "  </tbody>\n",
       "</table>\n",
       "</div>"
      ],
      "text/plain": [
       "           dt  AverageTemperature  AverageTemperatureUncertainty Country\n",
       "0  1743-11-01               4.384                          2.294   Åland\n",
       "1  1743-12-01                 NaN                            NaN   Åland\n",
       "2  1744-01-01                 NaN                            NaN   Åland\n",
       "3  1744-02-01                 NaN                            NaN   Åland\n",
       "4  1744-03-01                 NaN                            NaN   Åland\n",
       "5  1744-04-01               1.530                          4.680   Åland\n",
       "6  1744-05-01               6.702                          1.789   Åland\n",
       "7  1744-06-01              11.609                          1.577   Åland\n",
       "8  1744-07-01              15.342                          1.410   Åland\n",
       "9  1744-08-01                 NaN                            NaN   Åland"
      ]
     },
     "execution_count": 3,
     "metadata": {},
     "output_type": "execute_result"
    }
   ],
   "source": [
    "df.head(10)"
   ]
  },
  {
   "cell_type": "code",
   "execution_count": 4,
   "id": "developed-malawi",
   "metadata": {},
   "outputs": [
    {
     "data": {
      "text/plain": [
       "dt                                   0\n",
       "AverageTemperature               32651\n",
       "AverageTemperatureUncertainty    31912\n",
       "Country                              0\n",
       "dtype: int64"
      ]
     },
     "execution_count": 4,
     "metadata": {},
     "output_type": "execute_result"
    }
   ],
   "source": [
    "df.isnull().sum()"
   ]
  },
  {
   "cell_type": "code",
   "execution_count": 5,
   "id": "indirect-equality",
   "metadata": {},
   "outputs": [],
   "source": [
    "df_country = df.Country.unique()"
   ]
  },
  {
   "cell_type": "code",
   "execution_count": 6,
   "id": "vocational-portfolio",
   "metadata": {},
   "outputs": [
    {
     "data": {
      "text/plain": [
       "243"
      ]
     },
     "execution_count": 6,
     "metadata": {},
     "output_type": "execute_result"
    }
   ],
   "source": [
    "len(df_country)"
   ]
  },
  {
   "cell_type": "code",
   "execution_count": 7,
   "id": "chinese-cardiff",
   "metadata": {},
   "outputs": [],
   "source": [
    "df_c = df.drop('AverageTemperatureUncertainty', axis=1)"
   ]
  },
  {
   "cell_type": "code",
   "execution_count": 8,
   "id": "trying-canvas",
   "metadata": {},
   "outputs": [],
   "source": [
    "df_c = df_c[df_c.Country == \"Cameroon\"]"
   ]
  },
  {
   "cell_type": "code",
   "execution_count": 9,
   "id": "premier-bunny",
   "metadata": {},
   "outputs": [],
   "source": [
    "df_c = df_c.drop('Country',axis=1)"
   ]
  },
  {
   "cell_type": "code",
   "execution_count": 10,
   "id": "blank-rouge",
   "metadata": {},
   "outputs": [],
   "source": [
    "df_c.index = pd.to_datetime(df_c.dt)"
   ]
  },
  {
   "cell_type": "code",
   "execution_count": 11,
   "id": "young-professor",
   "metadata": {},
   "outputs": [],
   "source": [
    "df_c = df_c.drop('dt', axis=1)"
   ]
  },
  {
   "cell_type": "code",
   "execution_count": 12,
   "id": "covered-yacht",
   "metadata": {},
   "outputs": [
    {
     "data": {
      "text/html": [
       "<div>\n",
       "<style scoped>\n",
       "    .dataframe tbody tr th:only-of-type {\n",
       "        vertical-align: middle;\n",
       "    }\n",
       "\n",
       "    .dataframe tbody tr th {\n",
       "        vertical-align: top;\n",
       "    }\n",
       "\n",
       "    .dataframe thead th {\n",
       "        text-align: right;\n",
       "    }\n",
       "</style>\n",
       "<table border=\"1\" class=\"dataframe\">\n",
       "  <thead>\n",
       "    <tr style=\"text-align: right;\">\n",
       "      <th></th>\n",
       "      <th>AverageTemperature</th>\n",
       "    </tr>\n",
       "    <tr>\n",
       "      <th>dt</th>\n",
       "      <th></th>\n",
       "    </tr>\n",
       "  </thead>\n",
       "  <tbody>\n",
       "    <tr>\n",
       "      <th>1856-01-01</th>\n",
       "      <td>23.696</td>\n",
       "    </tr>\n",
       "    <tr>\n",
       "      <th>1856-02-01</th>\n",
       "      <td>24.302</td>\n",
       "    </tr>\n",
       "    <tr>\n",
       "      <th>1856-03-01</th>\n",
       "      <td>25.557</td>\n",
       "    </tr>\n",
       "    <tr>\n",
       "      <th>1856-04-01</th>\n",
       "      <td>25.104</td>\n",
       "    </tr>\n",
       "    <tr>\n",
       "      <th>1856-05-01</th>\n",
       "      <td>24.169</td>\n",
       "    </tr>\n",
       "    <tr>\n",
       "      <th>...</th>\n",
       "      <td>...</td>\n",
       "    </tr>\n",
       "    <tr>\n",
       "      <th>2013-05-01</th>\n",
       "      <td>25.411</td>\n",
       "    </tr>\n",
       "    <tr>\n",
       "      <th>2013-06-01</th>\n",
       "      <td>24.694</td>\n",
       "    </tr>\n",
       "    <tr>\n",
       "      <th>2013-07-01</th>\n",
       "      <td>23.955</td>\n",
       "    </tr>\n",
       "    <tr>\n",
       "      <th>2013-08-01</th>\n",
       "      <td>23.503</td>\n",
       "    </tr>\n",
       "    <tr>\n",
       "      <th>2013-09-01</th>\n",
       "      <td>NaN</td>\n",
       "    </tr>\n",
       "  </tbody>\n",
       "</table>\n",
       "<p>1893 rows × 1 columns</p>\n",
       "</div>"
      ],
      "text/plain": [
       "            AverageTemperature\n",
       "dt                            \n",
       "1856-01-01              23.696\n",
       "1856-02-01              24.302\n",
       "1856-03-01              25.557\n",
       "1856-04-01              25.104\n",
       "1856-05-01              24.169\n",
       "...                        ...\n",
       "2013-05-01              25.411\n",
       "2013-06-01              24.694\n",
       "2013-07-01              23.955\n",
       "2013-08-01              23.503\n",
       "2013-09-01                 NaN\n",
       "\n",
       "[1893 rows x 1 columns]"
      ]
     },
     "execution_count": 12,
     "metadata": {},
     "output_type": "execute_result"
    }
   ],
   "source": [
    "df_c"
   ]
  },
  {
   "cell_type": "code",
   "execution_count": 13,
   "id": "alleged-crown",
   "metadata": {},
   "outputs": [],
   "source": [
    "df_c = df_c.loc['1950-01-01':]"
   ]
  },
  {
   "cell_type": "code",
   "execution_count": 14,
   "id": "popular-webmaster",
   "metadata": {},
   "outputs": [
    {
     "data": {
      "text/html": [
       "<div>\n",
       "<style scoped>\n",
       "    .dataframe tbody tr th:only-of-type {\n",
       "        vertical-align: middle;\n",
       "    }\n",
       "\n",
       "    .dataframe tbody tr th {\n",
       "        vertical-align: top;\n",
       "    }\n",
       "\n",
       "    .dataframe thead th {\n",
       "        text-align: right;\n",
       "    }\n",
       "</style>\n",
       "<table border=\"1\" class=\"dataframe\">\n",
       "  <thead>\n",
       "    <tr style=\"text-align: right;\">\n",
       "      <th></th>\n",
       "      <th>AverageTemperature</th>\n",
       "    </tr>\n",
       "    <tr>\n",
       "      <th>dt</th>\n",
       "      <th></th>\n",
       "    </tr>\n",
       "  </thead>\n",
       "  <tbody>\n",
       "    <tr>\n",
       "      <th>1950-01-01</th>\n",
       "      <td>24.170</td>\n",
       "    </tr>\n",
       "    <tr>\n",
       "      <th>1950-02-01</th>\n",
       "      <td>24.678</td>\n",
       "    </tr>\n",
       "    <tr>\n",
       "      <th>1950-03-01</th>\n",
       "      <td>26.028</td>\n",
       "    </tr>\n",
       "    <tr>\n",
       "      <th>1950-04-01</th>\n",
       "      <td>25.891</td>\n",
       "    </tr>\n",
       "    <tr>\n",
       "      <th>1950-05-01</th>\n",
       "      <td>25.215</td>\n",
       "    </tr>\n",
       "  </tbody>\n",
       "</table>\n",
       "</div>"
      ],
      "text/plain": [
       "            AverageTemperature\n",
       "dt                            \n",
       "1950-01-01              24.170\n",
       "1950-02-01              24.678\n",
       "1950-03-01              26.028\n",
       "1950-04-01              25.891\n",
       "1950-05-01              25.215"
      ]
     },
     "execution_count": 14,
     "metadata": {},
     "output_type": "execute_result"
    }
   ],
   "source": [
    "df_c.head()"
   ]
  },
  {
   "cell_type": "code",
   "execution_count": 15,
   "id": "combined-stanley",
   "metadata": {},
   "outputs": [
    {
     "data": {
      "text/html": [
       "<div>\n",
       "<style scoped>\n",
       "    .dataframe tbody tr th:only-of-type {\n",
       "        vertical-align: middle;\n",
       "    }\n",
       "\n",
       "    .dataframe tbody tr th {\n",
       "        vertical-align: top;\n",
       "    }\n",
       "\n",
       "    .dataframe thead th {\n",
       "        text-align: right;\n",
       "    }\n",
       "</style>\n",
       "<table border=\"1\" class=\"dataframe\">\n",
       "  <thead>\n",
       "    <tr style=\"text-align: right;\">\n",
       "      <th></th>\n",
       "      <th>AverageTemperature</th>\n",
       "    </tr>\n",
       "    <tr>\n",
       "      <th>dt</th>\n",
       "      <th></th>\n",
       "    </tr>\n",
       "  </thead>\n",
       "  <tbody>\n",
       "    <tr>\n",
       "      <th>1950-01-01</th>\n",
       "      <td>NaN</td>\n",
       "    </tr>\n",
       "    <tr>\n",
       "      <th>1950-02-01</th>\n",
       "      <td>NaN</td>\n",
       "    </tr>\n",
       "    <tr>\n",
       "      <th>1950-03-01</th>\n",
       "      <td>NaN</td>\n",
       "    </tr>\n",
       "    <tr>\n",
       "      <th>1950-04-01</th>\n",
       "      <td>NaN</td>\n",
       "    </tr>\n",
       "    <tr>\n",
       "      <th>1950-05-01</th>\n",
       "      <td>NaN</td>\n",
       "    </tr>\n",
       "    <tr>\n",
       "      <th>...</th>\n",
       "      <td>...</td>\n",
       "    </tr>\n",
       "    <tr>\n",
       "      <th>2013-05-01</th>\n",
       "      <td>NaN</td>\n",
       "    </tr>\n",
       "    <tr>\n",
       "      <th>2013-06-01</th>\n",
       "      <td>NaN</td>\n",
       "    </tr>\n",
       "    <tr>\n",
       "      <th>2013-07-01</th>\n",
       "      <td>NaN</td>\n",
       "    </tr>\n",
       "    <tr>\n",
       "      <th>2013-08-01</th>\n",
       "      <td>NaN</td>\n",
       "    </tr>\n",
       "    <tr>\n",
       "      <th>2013-09-01</th>\n",
       "      <td>NaN</td>\n",
       "    </tr>\n",
       "  </tbody>\n",
       "</table>\n",
       "<p>765 rows × 1 columns</p>\n",
       "</div>"
      ],
      "text/plain": [
       "            AverageTemperature\n",
       "dt                            \n",
       "1950-01-01                 NaN\n",
       "1950-02-01                 NaN\n",
       "1950-03-01                 NaN\n",
       "1950-04-01                 NaN\n",
       "1950-05-01                 NaN\n",
       "...                        ...\n",
       "2013-05-01                 NaN\n",
       "2013-06-01                 NaN\n",
       "2013-07-01                 NaN\n",
       "2013-08-01                 NaN\n",
       "2013-09-01                 NaN\n",
       "\n",
       "[765 rows x 1 columns]"
      ]
     },
     "execution_count": 15,
     "metadata": {},
     "output_type": "execute_result"
    }
   ],
   "source": [
    "df_c[df_c.isnull()]\n",
    "#df_c.isnull().sum()"
   ]
  },
  {
   "cell_type": "code",
   "execution_count": 16,
   "id": "mysterious-spokesman",
   "metadata": {},
   "outputs": [],
   "source": [
    "df_c = df_c.sort_index()"
   ]
  },
  {
   "cell_type": "code",
   "execution_count": 17,
   "id": "sporting-behavior",
   "metadata": {},
   "outputs": [
    {
     "data": {
      "text/plain": [
       "DatetimeIndex(['1950-01-01', '1950-02-01', '1950-03-01', '1950-04-01',\n",
       "               '1950-05-01', '1950-06-01', '1950-07-01', '1950-08-01',\n",
       "               '1950-09-01', '1950-10-01',\n",
       "               ...\n",
       "               '2012-12-01', '2013-01-01', '2013-02-01', '2013-03-01',\n",
       "               '2013-04-01', '2013-05-01', '2013-06-01', '2013-07-01',\n",
       "               '2013-08-01', '2013-09-01'],\n",
       "              dtype='datetime64[ns]', name='dt', length=765, freq=None)"
      ]
     },
     "execution_count": 17,
     "metadata": {},
     "output_type": "execute_result"
    }
   ],
   "source": [
    "df_c.index"
   ]
  },
  {
   "cell_type": "code",
   "execution_count": 18,
   "id": "understanding-account",
   "metadata": {},
   "outputs": [],
   "source": [
    "df_c.AverageTemperature.fillna(method='pad', inplace=True)"
   ]
  },
  {
   "cell_type": "code",
   "execution_count": 19,
   "id": "undefined-night",
   "metadata": {},
   "outputs": [
    {
     "data": {
      "text/html": [
       "<div>\n",
       "<style scoped>\n",
       "    .dataframe tbody tr th:only-of-type {\n",
       "        vertical-align: middle;\n",
       "    }\n",
       "\n",
       "    .dataframe tbody tr th {\n",
       "        vertical-align: top;\n",
       "    }\n",
       "\n",
       "    .dataframe thead th {\n",
       "        text-align: right;\n",
       "    }\n",
       "</style>\n",
       "<table border=\"1\" class=\"dataframe\">\n",
       "  <thead>\n",
       "    <tr style=\"text-align: right;\">\n",
       "      <th></th>\n",
       "      <th>AverageTemperature</th>\n",
       "    </tr>\n",
       "    <tr>\n",
       "      <th>dt</th>\n",
       "      <th></th>\n",
       "    </tr>\n",
       "  </thead>\n",
       "  <tbody>\n",
       "  </tbody>\n",
       "</table>\n",
       "</div>"
      ],
      "text/plain": [
       "Empty DataFrame\n",
       "Columns: [AverageTemperature]\n",
       "Index: []"
      ]
     },
     "execution_count": 19,
     "metadata": {},
     "output_type": "execute_result"
    }
   ],
   "source": [
    "df_c[df_c.AverageTemperature.isnull()]"
   ]
  },
  {
   "cell_type": "code",
   "execution_count": 20,
   "id": "elementary-assistant",
   "metadata": {},
   "outputs": [
    {
     "data": {
      "text/html": [
       "<div>\n",
       "<style scoped>\n",
       "    .dataframe tbody tr th:only-of-type {\n",
       "        vertical-align: middle;\n",
       "    }\n",
       "\n",
       "    .dataframe tbody tr th {\n",
       "        vertical-align: top;\n",
       "    }\n",
       "\n",
       "    .dataframe thead th {\n",
       "        text-align: right;\n",
       "    }\n",
       "</style>\n",
       "<table border=\"1\" class=\"dataframe\">\n",
       "  <thead>\n",
       "    <tr style=\"text-align: right;\">\n",
       "      <th></th>\n",
       "      <th>AverageTemperature</th>\n",
       "    </tr>\n",
       "  </thead>\n",
       "  <tbody>\n",
       "    <tr>\n",
       "      <th>count</th>\n",
       "      <td>765.000000</td>\n",
       "    </tr>\n",
       "    <tr>\n",
       "      <th>mean</th>\n",
       "      <td>24.635908</td>\n",
       "    </tr>\n",
       "    <tr>\n",
       "      <th>std</th>\n",
       "      <td>1.107379</td>\n",
       "    </tr>\n",
       "    <tr>\n",
       "      <th>min</th>\n",
       "      <td>22.453000</td>\n",
       "    </tr>\n",
       "    <tr>\n",
       "      <th>25%</th>\n",
       "      <td>23.805000</td>\n",
       "    </tr>\n",
       "    <tr>\n",
       "      <th>50%</th>\n",
       "      <td>24.315000</td>\n",
       "    </tr>\n",
       "    <tr>\n",
       "      <th>75%</th>\n",
       "      <td>25.427000</td>\n",
       "    </tr>\n",
       "    <tr>\n",
       "      <th>max</th>\n",
       "      <td>27.722000</td>\n",
       "    </tr>\n",
       "  </tbody>\n",
       "</table>\n",
       "</div>"
      ],
      "text/plain": [
       "       AverageTemperature\n",
       "count          765.000000\n",
       "mean            24.635908\n",
       "std              1.107379\n",
       "min             22.453000\n",
       "25%             23.805000\n",
       "50%             24.315000\n",
       "75%             25.427000\n",
       "max             27.722000"
      ]
     },
     "execution_count": 20,
     "metadata": {},
     "output_type": "execute_result"
    }
   ],
   "source": [
    "df_c.describe()"
   ]
  },
  {
   "cell_type": "code",
   "execution_count": 21,
   "id": "dynamic-marble",
   "metadata": {},
   "outputs": [
    {
     "data": {
      "text/html": [
       "<div>\n",
       "<style scoped>\n",
       "    .dataframe tbody tr th:only-of-type {\n",
       "        vertical-align: middle;\n",
       "    }\n",
       "\n",
       "    .dataframe tbody tr th {\n",
       "        vertical-align: top;\n",
       "    }\n",
       "\n",
       "    .dataframe thead th {\n",
       "        text-align: right;\n",
       "    }\n",
       "</style>\n",
       "<table border=\"1\" class=\"dataframe\">\n",
       "  <thead>\n",
       "    <tr style=\"text-align: right;\">\n",
       "      <th></th>\n",
       "      <th>AverageTemperature</th>\n",
       "    </tr>\n",
       "    <tr>\n",
       "      <th>dt</th>\n",
       "      <th></th>\n",
       "    </tr>\n",
       "  </thead>\n",
       "  <tbody>\n",
       "    <tr>\n",
       "      <th>1950-01-01</th>\n",
       "      <td>24.170</td>\n",
       "    </tr>\n",
       "    <tr>\n",
       "      <th>1950-02-01</th>\n",
       "      <td>24.678</td>\n",
       "    </tr>\n",
       "    <tr>\n",
       "      <th>1950-03-01</th>\n",
       "      <td>26.028</td>\n",
       "    </tr>\n",
       "    <tr>\n",
       "      <th>1950-04-01</th>\n",
       "      <td>25.891</td>\n",
       "    </tr>\n",
       "    <tr>\n",
       "      <th>1950-05-01</th>\n",
       "      <td>25.215</td>\n",
       "    </tr>\n",
       "    <tr>\n",
       "      <th>...</th>\n",
       "      <td>...</td>\n",
       "    </tr>\n",
       "    <tr>\n",
       "      <th>2013-05-01</th>\n",
       "      <td>25.411</td>\n",
       "    </tr>\n",
       "    <tr>\n",
       "      <th>2013-06-01</th>\n",
       "      <td>24.694</td>\n",
       "    </tr>\n",
       "    <tr>\n",
       "      <th>2013-07-01</th>\n",
       "      <td>23.955</td>\n",
       "    </tr>\n",
       "    <tr>\n",
       "      <th>2013-08-01</th>\n",
       "      <td>23.503</td>\n",
       "    </tr>\n",
       "    <tr>\n",
       "      <th>2013-09-01</th>\n",
       "      <td>23.503</td>\n",
       "    </tr>\n",
       "  </tbody>\n",
       "</table>\n",
       "<p>765 rows × 1 columns</p>\n",
       "</div>"
      ],
      "text/plain": [
       "            AverageTemperature\n",
       "dt                            \n",
       "1950-01-01              24.170\n",
       "1950-02-01              24.678\n",
       "1950-03-01              26.028\n",
       "1950-04-01              25.891\n",
       "1950-05-01              25.215\n",
       "...                        ...\n",
       "2013-05-01              25.411\n",
       "2013-06-01              24.694\n",
       "2013-07-01              23.955\n",
       "2013-08-01              23.503\n",
       "2013-09-01              23.503\n",
       "\n",
       "[765 rows x 1 columns]"
      ]
     },
     "execution_count": 21,
     "metadata": {},
     "output_type": "execute_result"
    }
   ],
   "source": [
    "df_c"
   ]
  },
  {
   "cell_type": "code",
   "execution_count": 22,
   "id": "alike-master",
   "metadata": {},
   "outputs": [],
   "source": [
    "df_c['Ticks'] = range(0,len(df_c.index.values))"
   ]
  },
  {
   "cell_type": "code",
   "execution_count": 23,
   "id": "embedded-pontiac",
   "metadata": {},
   "outputs": [
    {
     "data": {
      "text/html": [
       "<div>\n",
       "<style scoped>\n",
       "    .dataframe tbody tr th:only-of-type {\n",
       "        vertical-align: middle;\n",
       "    }\n",
       "\n",
       "    .dataframe tbody tr th {\n",
       "        vertical-align: top;\n",
       "    }\n",
       "\n",
       "    .dataframe thead th {\n",
       "        text-align: right;\n",
       "    }\n",
       "</style>\n",
       "<table border=\"1\" class=\"dataframe\">\n",
       "  <thead>\n",
       "    <tr style=\"text-align: right;\">\n",
       "      <th></th>\n",
       "      <th>AverageTemperature</th>\n",
       "      <th>Ticks</th>\n",
       "    </tr>\n",
       "    <tr>\n",
       "      <th>dt</th>\n",
       "      <th></th>\n",
       "      <th></th>\n",
       "    </tr>\n",
       "  </thead>\n",
       "  <tbody>\n",
       "    <tr>\n",
       "      <th>1950-01-01</th>\n",
       "      <td>24.170</td>\n",
       "      <td>0</td>\n",
       "    </tr>\n",
       "    <tr>\n",
       "      <th>1950-02-01</th>\n",
       "      <td>24.678</td>\n",
       "      <td>1</td>\n",
       "    </tr>\n",
       "    <tr>\n",
       "      <th>1950-03-01</th>\n",
       "      <td>26.028</td>\n",
       "      <td>2</td>\n",
       "    </tr>\n",
       "    <tr>\n",
       "      <th>1950-04-01</th>\n",
       "      <td>25.891</td>\n",
       "      <td>3</td>\n",
       "    </tr>\n",
       "    <tr>\n",
       "      <th>1950-05-01</th>\n",
       "      <td>25.215</td>\n",
       "      <td>4</td>\n",
       "    </tr>\n",
       "    <tr>\n",
       "      <th>1950-06-01</th>\n",
       "      <td>24.876</td>\n",
       "      <td>5</td>\n",
       "    </tr>\n",
       "    <tr>\n",
       "      <th>1950-07-01</th>\n",
       "      <td>23.424</td>\n",
       "      <td>6</td>\n",
       "    </tr>\n",
       "    <tr>\n",
       "      <th>1950-08-01</th>\n",
       "      <td>22.979</td>\n",
       "      <td>7</td>\n",
       "    </tr>\n",
       "    <tr>\n",
       "      <th>1950-09-01</th>\n",
       "      <td>23.484</td>\n",
       "      <td>8</td>\n",
       "    </tr>\n",
       "    <tr>\n",
       "      <th>1950-10-01</th>\n",
       "      <td>23.816</td>\n",
       "      <td>9</td>\n",
       "    </tr>\n",
       "  </tbody>\n",
       "</table>\n",
       "</div>"
      ],
      "text/plain": [
       "            AverageTemperature  Ticks\n",
       "dt                                   \n",
       "1950-01-01              24.170      0\n",
       "1950-02-01              24.678      1\n",
       "1950-03-01              26.028      2\n",
       "1950-04-01              25.891      3\n",
       "1950-05-01              25.215      4\n",
       "1950-06-01              24.876      5\n",
       "1950-07-01              23.424      6\n",
       "1950-08-01              22.979      7\n",
       "1950-09-01              23.484      8\n",
       "1950-10-01              23.816      9"
      ]
     },
     "execution_count": 23,
     "metadata": {},
     "output_type": "execute_result"
    }
   ],
   "source": [
    "df_c.head(10)"
   ]
  },
  {
   "cell_type": "code",
   "execution_count": 24,
   "id": "sporting-quick",
   "metadata": {},
   "outputs": [
    {
     "data": {
      "text/html": [
       "<div>\n",
       "<style scoped>\n",
       "    .dataframe tbody tr th:only-of-type {\n",
       "        vertical-align: middle;\n",
       "    }\n",
       "\n",
       "    .dataframe tbody tr th {\n",
       "        vertical-align: top;\n",
       "    }\n",
       "\n",
       "    .dataframe thead th {\n",
       "        text-align: right;\n",
       "    }\n",
       "</style>\n",
       "<table border=\"1\" class=\"dataframe\">\n",
       "  <thead>\n",
       "    <tr style=\"text-align: right;\">\n",
       "      <th></th>\n",
       "      <th>AverageTemperature</th>\n",
       "      <th>Ticks</th>\n",
       "    </tr>\n",
       "    <tr>\n",
       "      <th>dt</th>\n",
       "      <th></th>\n",
       "      <th></th>\n",
       "    </tr>\n",
       "  </thead>\n",
       "  <tbody>\n",
       "    <tr>\n",
       "      <th>2012-12-01</th>\n",
       "      <td>24.504</td>\n",
       "      <td>755</td>\n",
       "    </tr>\n",
       "    <tr>\n",
       "      <th>2013-01-01</th>\n",
       "      <td>25.382</td>\n",
       "      <td>756</td>\n",
       "    </tr>\n",
       "    <tr>\n",
       "      <th>2013-02-01</th>\n",
       "      <td>26.610</td>\n",
       "      <td>757</td>\n",
       "    </tr>\n",
       "    <tr>\n",
       "      <th>2013-03-01</th>\n",
       "      <td>26.750</td>\n",
       "      <td>758</td>\n",
       "    </tr>\n",
       "    <tr>\n",
       "      <th>2013-04-01</th>\n",
       "      <td>26.156</td>\n",
       "      <td>759</td>\n",
       "    </tr>\n",
       "    <tr>\n",
       "      <th>2013-05-01</th>\n",
       "      <td>25.411</td>\n",
       "      <td>760</td>\n",
       "    </tr>\n",
       "    <tr>\n",
       "      <th>2013-06-01</th>\n",
       "      <td>24.694</td>\n",
       "      <td>761</td>\n",
       "    </tr>\n",
       "    <tr>\n",
       "      <th>2013-07-01</th>\n",
       "      <td>23.955</td>\n",
       "      <td>762</td>\n",
       "    </tr>\n",
       "    <tr>\n",
       "      <th>2013-08-01</th>\n",
       "      <td>23.503</td>\n",
       "      <td>763</td>\n",
       "    </tr>\n",
       "    <tr>\n",
       "      <th>2013-09-01</th>\n",
       "      <td>23.503</td>\n",
       "      <td>764</td>\n",
       "    </tr>\n",
       "  </tbody>\n",
       "</table>\n",
       "</div>"
      ],
      "text/plain": [
       "            AverageTemperature  Ticks\n",
       "dt                                   \n",
       "2012-12-01              24.504    755\n",
       "2013-01-01              25.382    756\n",
       "2013-02-01              26.610    757\n",
       "2013-03-01              26.750    758\n",
       "2013-04-01              26.156    759\n",
       "2013-05-01              25.411    760\n",
       "2013-06-01              24.694    761\n",
       "2013-07-01              23.955    762\n",
       "2013-08-01              23.503    763\n",
       "2013-09-01              23.503    764"
      ]
     },
     "execution_count": 24,
     "metadata": {},
     "output_type": "execute_result"
    }
   ],
   "source": [
    "df_c.tail(10)"
   ]
  },
  {
   "cell_type": "code",
   "execution_count": 25,
   "id": "identified-climate",
   "metadata": {},
   "outputs": [
    {
     "data": {
      "image/png": "[encoded data removed]",
      "text/plain": [
       "<Figure size 432x288 with 1 Axes>"
      ]
     },
     "metadata": {
      "needs_background": "light"
     },
     "output_type": "display_data"
    }
   ],
   "source": [
    "fig = plt.figure(1)\n",
    "ax1 = fig.add_subplot(111)\n",
    "ax1.set_xlabel('Ticks')\n",
    "ax1.set_ylabel('Avg. Temp.')\n",
    "ax1.set_title('Original Plot')\n",
    "ax1.plot('Ticks', 'AverageTemperature', data = df_c);"
   ]
  },
  {
   "cell_type": "code",
   "execution_count": 26,
   "id": "premium-flooring",
   "metadata": {},
   "outputs": [],
   "source": [
    "from statsmodels.tsa.stattools import adfuller\n",
    "def stationarity_check(ts):\n",
    "    \n",
    "    # Determing rolling statistics\n",
    "    roll_mean = ts.rolling(12).std()\n",
    "    # Plot rolling statistics:\n",
    "    plt.plot(ts, color='green',label='Original')\n",
    "    plt.plot(roll_mean, color='blue', label='Rolling Mean')\n",
    "    plt.legend(loc='best')\n",
    "    plt.title('Rolling Mean')\n",
    "    plt.show(block=False)\n",
    "    \n",
    "    # Perform Augmented Dickey-Fuller test:\n",
    "    print('Augmented Dickey-Fuller test:')\n",
    "    df_test = adfuller(ts)\n",
    "    print(\"type of df_test: \",type(df_test))\n",
    "    print(\"df_test: \",df_test)\n",
    "    df_output = pd.Series(df_test[0:4], index=['Test Statistic','p-value','#Lags Used','Number of Observations Used'])\n",
    "    print(\"df_output: \\n\",df_output)\n",
    "    for key,value in df_test[4].items():\n",
    "        df_output['Critical Value (%s)'%key] = value\n",
    "    print(df_output)"
   ]
  },
  {
   "cell_type": "code",
   "execution_count": 27,
   "id": "nuclear-nerve",
   "metadata": {},
   "outputs": [
    {
     "data": {
      "image/png": "[encoded data removed]",
      "text/plain": [
       "<Figure size 432x288 with 1 Axes>"
      ]
     },
     "metadata": {
      "needs_background": "light"
     },
     "output_type": "display_data"
    },
    {
     "name": "stdout",
     "output_type": "stream",
     "text": [
      "Augmented Dickey-Fuller test:\n",
      "type of df_test:  <class 'tuple'>\n",
      "df_test:  (-4.60017919481465, 0.00012907144067912917, 18, 746, {'1%': -3.439146171679794, '5%': -2.865422101274577, '10%': -2.568837245865348}, 962.0690597938938)\n",
      "df_output: \n",
      " Test Statistic                  -4.600179\n",
      "p-value                          0.000129\n",
      "#Lags Used                      18.000000\n",
      "Number of Observations Used    746.000000\n",
      "dtype: float64\n",
      "Test Statistic                  -4.600179\n",
      "p-value                          0.000129\n",
      "#Lags Used                      18.000000\n",
      "Number of Observations Used    746.000000\n",
      "Critical Value (1%)             -3.439146\n",
      "Critical Value (5%)             -2.865422\n",
      "Critical Value (10%)            -2.568837\n",
      "dtype: float64\n"
     ]
    }
   ],
   "source": [
    "stationarity_check(df_c.AverageTemperature)"
   ]
  },
  {
   "cell_type": "code",
   "execution_count": 28,
   "id": "democratic-launch",
   "metadata": {},
   "outputs": [
    {
     "name": "stdout",
     "output_type": "stream",
     "text": [
      "            AverageTemperature  Ticks\n",
      "dt                                   \n",
      "1950-01-01              24.170      0\n",
      "1950-02-01              24.678      1\n",
      "1950-03-01              26.028      2\n",
      "1950-04-01              25.891      3\n",
      "1950-05-01              25.215      4\n",
      "...                        ...    ...\n",
      "2013-05-01              25.411    760\n",
      "2013-06-01              24.694    761\n",
      "2013-07-01              23.955    762\n",
      "2013-08-01              23.503    763\n",
      "2013-09-01              23.503    764\n",
      "\n",
      "[765 rows x 2 columns]\n"
     ]
    }
   ],
   "source": [
    "print(df_c)"
   ]
  },
  {
   "cell_type": "code",
   "execution_count": 29,
   "id": "logical-vitamin",
   "metadata": {},
   "outputs": [],
   "source": [
    "#df_c.iloc[:,0]  = pd.to_datetime(df_c.iloc[:,0]) \n",
    "#df_c.iloc[:,0] = np.nan\n",
    "#df_c.iloc[:,1]= pd.to_datetime(df_c.iloc[:,1],unit='ns')\n",
    "#df_c.iloc[:, 1] = pd.to_datetime(df_c.iloc[:, 1], errors = 'coerce')\n",
    "#print(df_c)"
   ]
  },
  {
   "cell_type": "code",
   "execution_count": 30,
   "id": "excessive-prospect",
   "metadata": {},
   "outputs": [],
   "source": [
    "df_c['Roll_Mean'] = df_c.AverageTemperature.rolling(12).std()"
   ]
  },
  {
   "cell_type": "code",
   "execution_count": 31,
   "id": "downtown-dallas",
   "metadata": {},
   "outputs": [
    {
     "data": {
      "text/html": [
       "<div>\n",
       "<style scoped>\n",
       "    .dataframe tbody tr th:only-of-type {\n",
       "        vertical-align: middle;\n",
       "    }\n",
       "\n",
       "    .dataframe tbody tr th {\n",
       "        vertical-align: top;\n",
       "    }\n",
       "\n",
       "    .dataframe thead th {\n",
       "        text-align: right;\n",
       "    }\n",
       "</style>\n",
       "<table border=\"1\" class=\"dataframe\">\n",
       "  <thead>\n",
       "    <tr style=\"text-align: right;\">\n",
       "      <th></th>\n",
       "      <th>AverageTemperature</th>\n",
       "      <th>Ticks</th>\n",
       "      <th>Roll_Mean</th>\n",
       "    </tr>\n",
       "    <tr>\n",
       "      <th>dt</th>\n",
       "      <th></th>\n",
       "      <th></th>\n",
       "      <th></th>\n",
       "    </tr>\n",
       "  </thead>\n",
       "  <tbody>\n",
       "    <tr>\n",
       "      <th>1950-01-01</th>\n",
       "      <td>24.170</td>\n",
       "      <td>0</td>\n",
       "      <td>NaN</td>\n",
       "    </tr>\n",
       "    <tr>\n",
       "      <th>1950-02-01</th>\n",
       "      <td>24.678</td>\n",
       "      <td>1</td>\n",
       "      <td>NaN</td>\n",
       "    </tr>\n",
       "    <tr>\n",
       "      <th>1950-03-01</th>\n",
       "      <td>26.028</td>\n",
       "      <td>2</td>\n",
       "      <td>NaN</td>\n",
       "    </tr>\n",
       "    <tr>\n",
       "      <th>1950-04-01</th>\n",
       "      <td>25.891</td>\n",
       "      <td>3</td>\n",
       "      <td>NaN</td>\n",
       "    </tr>\n",
       "    <tr>\n",
       "      <th>1950-05-01</th>\n",
       "      <td>25.215</td>\n",
       "      <td>4</td>\n",
       "      <td>NaN</td>\n",
       "    </tr>\n",
       "    <tr>\n",
       "      <th>1950-06-01</th>\n",
       "      <td>24.876</td>\n",
       "      <td>5</td>\n",
       "      <td>NaN</td>\n",
       "    </tr>\n",
       "    <tr>\n",
       "      <th>1950-07-01</th>\n",
       "      <td>23.424</td>\n",
       "      <td>6</td>\n",
       "      <td>NaN</td>\n",
       "    </tr>\n",
       "    <tr>\n",
       "      <th>1950-08-01</th>\n",
       "      <td>22.979</td>\n",
       "      <td>7</td>\n",
       "      <td>NaN</td>\n",
       "    </tr>\n",
       "    <tr>\n",
       "      <th>1950-09-01</th>\n",
       "      <td>23.484</td>\n",
       "      <td>8</td>\n",
       "      <td>NaN</td>\n",
       "    </tr>\n",
       "    <tr>\n",
       "      <th>1950-10-01</th>\n",
       "      <td>23.816</td>\n",
       "      <td>9</td>\n",
       "      <td>NaN</td>\n",
       "    </tr>\n",
       "    <tr>\n",
       "      <th>1950-11-01</th>\n",
       "      <td>24.421</td>\n",
       "      <td>10</td>\n",
       "      <td>NaN</td>\n",
       "    </tr>\n",
       "    <tr>\n",
       "      <th>1950-12-01</th>\n",
       "      <td>24.211</td>\n",
       "      <td>11</td>\n",
       "      <td>0.956778</td>\n",
       "    </tr>\n",
       "    <tr>\n",
       "      <th>1951-01-01</th>\n",
       "      <td>23.869</td>\n",
       "      <td>12</td>\n",
       "      <td>0.968171</td>\n",
       "    </tr>\n",
       "    <tr>\n",
       "      <th>1951-02-01</th>\n",
       "      <td>24.791</td>\n",
       "      <td>13</td>\n",
       "      <td>0.971582</td>\n",
       "    </tr>\n",
       "    <tr>\n",
       "      <th>1951-03-01</th>\n",
       "      <td>25.833</td>\n",
       "      <td>14</td>\n",
       "      <td>0.943412</td>\n",
       "    </tr>\n",
       "    <tr>\n",
       "      <th>1951-04-01</th>\n",
       "      <td>26.021</td>\n",
       "      <td>15</td>\n",
       "      <td>0.962630</td>\n",
       "    </tr>\n",
       "    <tr>\n",
       "      <th>1951-05-01</th>\n",
       "      <td>25.393</td>\n",
       "      <td>16</td>\n",
       "      <td>0.977393</td>\n",
       "    </tr>\n",
       "    <tr>\n",
       "      <th>1951-06-01</th>\n",
       "      <td>24.589</td>\n",
       "      <td>17</td>\n",
       "      <td>0.968868</td>\n",
       "    </tr>\n",
       "    <tr>\n",
       "      <th>1951-07-01</th>\n",
       "      <td>23.548</td>\n",
       "      <td>18</td>\n",
       "      <td>0.958083</td>\n",
       "    </tr>\n",
       "    <tr>\n",
       "      <th>1951-08-01</th>\n",
       "      <td>23.323</td>\n",
       "      <td>19</td>\n",
       "      <td>0.915478</td>\n",
       "    </tr>\n",
       "    <tr>\n",
       "      <th>1951-09-01</th>\n",
       "      <td>23.874</td>\n",
       "      <td>20</td>\n",
       "      <td>0.884801</td>\n",
       "    </tr>\n",
       "    <tr>\n",
       "      <th>1951-10-01</th>\n",
       "      <td>24.199</td>\n",
       "      <td>21</td>\n",
       "      <td>0.865604</td>\n",
       "    </tr>\n",
       "    <tr>\n",
       "      <th>1951-11-01</th>\n",
       "      <td>24.104</td>\n",
       "      <td>22</td>\n",
       "      <td>0.873238</td>\n",
       "    </tr>\n",
       "    <tr>\n",
       "      <th>1951-12-01</th>\n",
       "      <td>23.345</td>\n",
       "      <td>23</td>\n",
       "      <td>0.931306</td>\n",
       "    </tr>\n",
       "    <tr>\n",
       "      <th>1952-01-01</th>\n",
       "      <td>24.428</td>\n",
       "      <td>24</td>\n",
       "      <td>0.915777</td>\n",
       "    </tr>\n",
       "    <tr>\n",
       "      <th>1952-02-01</th>\n",
       "      <td>24.990</td>\n",
       "      <td>25</td>\n",
       "      <td>0.924197</td>\n",
       "    </tr>\n",
       "    <tr>\n",
       "      <th>1952-03-01</th>\n",
       "      <td>26.099</td>\n",
       "      <td>26</td>\n",
       "      <td>0.962252</td>\n",
       "    </tr>\n",
       "    <tr>\n",
       "      <th>1952-04-01</th>\n",
       "      <td>26.017</td>\n",
       "      <td>27</td>\n",
       "      <td>0.961675</td>\n",
       "    </tr>\n",
       "    <tr>\n",
       "      <th>1952-05-01</th>\n",
       "      <td>25.222</td>\n",
       "      <td>28</td>\n",
       "      <td>0.948291</td>\n",
       "    </tr>\n",
       "    <tr>\n",
       "      <th>1952-06-01</th>\n",
       "      <td>24.376</td>\n",
       "      <td>29</td>\n",
       "      <td>0.948021</td>\n",
       "    </tr>\n",
       "    <tr>\n",
       "      <th>1952-07-01</th>\n",
       "      <td>23.528</td>\n",
       "      <td>30</td>\n",
       "      <td>0.949787</td>\n",
       "    </tr>\n",
       "    <tr>\n",
       "      <th>1952-08-01</th>\n",
       "      <td>23.054</td>\n",
       "      <td>31</td>\n",
       "      <td>0.981669</td>\n",
       "    </tr>\n",
       "    <tr>\n",
       "      <th>1952-09-01</th>\n",
       "      <td>23.505</td>\n",
       "      <td>32</td>\n",
       "      <td>1.006354</td>\n",
       "    </tr>\n",
       "    <tr>\n",
       "      <th>1952-10-01</th>\n",
       "      <td>24.010</td>\n",
       "      <td>33</td>\n",
       "      <td>1.011347</td>\n",
       "    </tr>\n",
       "    <tr>\n",
       "      <th>1952-11-01</th>\n",
       "      <td>24.201</td>\n",
       "      <td>34</td>\n",
       "      <td>1.009241</td>\n",
       "    </tr>\n",
       "    <tr>\n",
       "      <th>1952-12-01</th>\n",
       "      <td>24.038</td>\n",
       "      <td>35</td>\n",
       "      <td>0.962247</td>\n",
       "    </tr>\n",
       "    <tr>\n",
       "      <th>1953-01-01</th>\n",
       "      <td>24.282</td>\n",
       "      <td>36</td>\n",
       "      <td>0.963551</td>\n",
       "    </tr>\n",
       "    <tr>\n",
       "      <th>1953-02-01</th>\n",
       "      <td>25.035</td>\n",
       "      <td>37</td>\n",
       "      <td>0.965956</td>\n",
       "    </tr>\n",
       "    <tr>\n",
       "      <th>1953-03-01</th>\n",
       "      <td>25.941</td>\n",
       "      <td>38</td>\n",
       "      <td>0.942179</td>\n",
       "    </tr>\n",
       "    <tr>\n",
       "      <th>1953-04-01</th>\n",
       "      <td>26.101</td>\n",
       "      <td>39</td>\n",
       "      <td>0.955230</td>\n",
       "    </tr>\n",
       "  </tbody>\n",
       "</table>\n",
       "</div>"
      ],
      "text/plain": [
       "            AverageTemperature  Ticks  Roll_Mean\n",
       "dt                                              \n",
       "1950-01-01              24.170      0        NaN\n",
       "1950-02-01              24.678      1        NaN\n",
       "1950-03-01              26.028      2        NaN\n",
       "1950-04-01              25.891      3        NaN\n",
       "1950-05-01              25.215      4        NaN\n",
       "1950-06-01              24.876      5        NaN\n",
       "1950-07-01              23.424      6        NaN\n",
       "1950-08-01              22.979      7        NaN\n",
       "1950-09-01              23.484      8        NaN\n",
       "1950-10-01              23.816      9        NaN\n",
       "1950-11-01              24.421     10        NaN\n",
       "1950-12-01              24.211     11   0.956778\n",
       "1951-01-01              23.869     12   0.968171\n",
       "1951-02-01              24.791     13   0.971582\n",
       "1951-03-01              25.833     14   0.943412\n",
       "1951-04-01              26.021     15   0.962630\n",
       "1951-05-01              25.393     16   0.977393\n",
       "1951-06-01              24.589     17   0.968868\n",
       "1951-07-01              23.548     18   0.958083\n",
       "1951-08-01              23.323     19   0.915478\n",
       "1951-09-01              23.874     20   0.884801\n",
       "1951-10-01              24.199     21   0.865604\n",
       "1951-11-01              24.104     22   0.873238\n",
       "1951-12-01              23.345     23   0.931306\n",
       "1952-01-01              24.428     24   0.915777\n",
       "1952-02-01              24.990     25   0.924197\n",
       "1952-03-01              26.099     26   0.962252\n",
       "1952-04-01              26.017     27   0.961675\n",
       "1952-05-01              25.222     28   0.948291\n",
       "1952-06-01              24.376     29   0.948021\n",
       "1952-07-01              23.528     30   0.949787\n",
       "1952-08-01              23.054     31   0.981669\n",
       "1952-09-01              23.505     32   1.006354\n",
       "1952-10-01              24.010     33   1.011347\n",
       "1952-11-01              24.201     34   1.009241\n",
       "1952-12-01              24.038     35   0.962247\n",
       "1953-01-01              24.282     36   0.963551\n",
       "1953-02-01              25.035     37   0.965956\n",
       "1953-03-01              25.941     38   0.942179\n",
       "1953-04-01              26.101     39   0.955230"
      ]
     },
     "execution_count": 31,
     "metadata": {},
     "output_type": "execute_result"
    }
   ],
   "source": [
    "df_c.head(40)"
   ]
  },
  {
   "cell_type": "code",
   "execution_count": 32,
   "id": "designing-commission",
   "metadata": {},
   "outputs": [
    {
     "data": {
      "text/html": [
       "<div>\n",
       "<style scoped>\n",
       "    .dataframe tbody tr th:only-of-type {\n",
       "        vertical-align: middle;\n",
       "    }\n",
       "\n",
       "    .dataframe tbody tr th {\n",
       "        vertical-align: top;\n",
       "    }\n",
       "\n",
       "    .dataframe thead th {\n",
       "        text-align: right;\n",
       "    }\n",
       "</style>\n",
       "<table border=\"1\" class=\"dataframe\">\n",
       "  <thead>\n",
       "    <tr style=\"text-align: right;\">\n",
       "      <th></th>\n",
       "      <th>AverageTemperature</th>\n",
       "      <th>Ticks</th>\n",
       "      <th>Roll_Mean</th>\n",
       "    </tr>\n",
       "    <tr>\n",
       "      <th>dt</th>\n",
       "      <th></th>\n",
       "      <th></th>\n",
       "      <th></th>\n",
       "    </tr>\n",
       "  </thead>\n",
       "  <tbody>\n",
       "    <tr>\n",
       "      <th>2013-05-01</th>\n",
       "      <td>25.411</td>\n",
       "      <td>760</td>\n",
       "      <td>1.124596</td>\n",
       "    </tr>\n",
       "    <tr>\n",
       "      <th>2013-06-01</th>\n",
       "      <td>24.694</td>\n",
       "      <td>761</td>\n",
       "      <td>1.114160</td>\n",
       "    </tr>\n",
       "    <tr>\n",
       "      <th>2013-07-01</th>\n",
       "      <td>23.955</td>\n",
       "      <td>762</td>\n",
       "      <td>1.060862</td>\n",
       "    </tr>\n",
       "    <tr>\n",
       "      <th>2013-08-01</th>\n",
       "      <td>23.503</td>\n",
       "      <td>763</td>\n",
       "      <td>1.094851</td>\n",
       "    </tr>\n",
       "    <tr>\n",
       "      <th>2013-09-01</th>\n",
       "      <td>23.503</td>\n",
       "      <td>764</td>\n",
       "      <td>1.138020</td>\n",
       "    </tr>\n",
       "  </tbody>\n",
       "</table>\n",
       "</div>"
      ],
      "text/plain": [
       "            AverageTemperature  Ticks  Roll_Mean\n",
       "dt                                              \n",
       "2013-05-01              25.411    760   1.124596\n",
       "2013-06-01              24.694    761   1.114160\n",
       "2013-07-01              23.955    762   1.060862\n",
       "2013-08-01              23.503    763   1.094851\n",
       "2013-09-01              23.503    764   1.138020"
      ]
     },
     "execution_count": 32,
     "metadata": {},
     "output_type": "execute_result"
    }
   ],
   "source": [
    "df_c.tail()"
   ]
  },
  {
   "cell_type": "code",
   "execution_count": 33,
   "id": "bearing-supplier",
   "metadata": {},
   "outputs": [],
   "source": [
    "from statsmodels.graphics.tsaplots import plot_pacf,plot_acf"
   ]
  },
  {
   "cell_type": "code",
   "execution_count": 34,
   "id": "ultimate-stadium",
   "metadata": {},
   "outputs": [
    {
     "data": {
      "image/png": "[encoded data removed]",
      "text/plain": [
       "<Figure size 432x288 with 1 Axes>"
      ]
     },
     "metadata": {
      "needs_background": "light"
     },
     "output_type": "display_data"
    },
    {
     "data": {
      "image/png": "[encoded data removed]",
      "text/plain": [
       "<Figure size 432x288 with 1 Axes>"
      ]
     },
     "metadata": {
      "needs_background": "light"
     },
     "output_type": "display_data"
    }
   ],
   "source": [
    "plot_acf(df_c.AverageTemperature)\n",
    "plot_pacf(df_c.AverageTemperature)\n",
    "plt.xlabel('lags')\n",
    "plt.show()"
   ]
  },
  {
   "cell_type": "code",
   "execution_count": 35,
   "id": "employed-bangladesh",
   "metadata": {},
   "outputs": [],
   "source": [
    "from statsmodels.tsa.arima_model import ARIMA"
   ]
  },
  {
   "cell_type": "raw",
   "id": "applicable-antique",
   "metadata": {},
   "source": [
    "import itertools\n",
    "p = d = q = range(0, 4)\n",
    "pdq = itertools.product(p, d, q)\n",
    "for param in pdq:\n",
    "    try:\n",
    "        mod = ARIMA(df_c.AverageTemperature,order=param)\n",
    "        results = mod.fit()\n",
    "        print('ARIMA{} - AIC:{}'.format(param, results.aic))\n",
    "    except:\n",
    "        continue"
   ]
  },
  {
   "cell_type": "code",
   "execution_count": 36,
   "id": "sound-miller",
   "metadata": {},
   "outputs": [
    {
     "data": {
      "image/png": "[encoded data removed]",
      "text/plain": [
       "<Figure size 1080x576 with 1 Axes>"
      ]
     },
     "metadata": {
      "needs_background": "light"
     },
     "output_type": "display_data"
    }
   ],
   "source": [
    "model = ARIMA(df_c.AverageTemperature, order=(1, 0, 2),freq=\"MS\")  \n",
    "results_MA = model.fit()  \n",
    "#plt.plot(df_c.AverageTemperature)\n",
    "#plt.plot(results_MA.fittedvalues, color='red')\n",
    "#plt.title('Fitting data _ MSE: %.2f'% (((results_MA.fittedvalues-df_c.AverageTemperature)**2).mean()))\n",
    "#plt.show()\n",
    "\n",
    "\n",
    "fig = plt.figure(figsize=(15, 8))\n",
    "ax = plt.plot(df_c.AverageTemperature, color = 'blue',label=\"Actual Values\")\n",
    "l = plt.plot(results_MA.fittedvalues, color = 'red',label=\"Predicted Values\")\n",
    "plt.title(\"Actual vs Predicted Values for Contry Wise Prediction\")\n",
    "plt.xlabel(\"Years\")\n",
    "plt.ylabel(\"Temperature\")\n",
    "plt.legend(loc=\"upper left\")\n",
    "plt.show()\n",
    "#plt.savefig(\"Actual vs Predicted Values for Contry Wise Prediction\")\n",
    "#mpld3.plugins.connect(fig, mpld3.plugins.LineLabelTooltip(ax[0]))\n",
    "html_str = mpld3.fig_to_html(fig)\n",
    "Html_file= open(\"map.html\",\"w\")\n",
    "Html_file.write(html_str)\n",
    "Html_file.close()\n"
   ]
  },
  {
   "cell_type": "code",
   "execution_count": 37,
   "id": "consecutive-malta",
   "metadata": {},
   "outputs": [
    {
     "data": {
      "text/html": [
       "<table class=\"simpletable\">\n",
       "<caption>ARMA Model Results</caption>\n",
       "<tr>\n",
       "  <th>Dep. Variable:</th> <td>AverageTemperature</td> <th>  No. Observations:  </th>    <td>765</td>  \n",
       "</tr>\n",
       "<tr>\n",
       "  <th>Model:</th>             <td>ARMA(1, 2)</td>     <th>  Log Likelihood     </th> <td>-808.078</td>\n",
       "</tr>\n",
       "<tr>\n",
       "  <th>Method:</th>              <td>css-mle</td>      <th>  S.D. of innovations</th>   <td>0.695</td> \n",
       "</tr>\n",
       "<tr>\n",
       "  <th>Date:</th>           <td>Fri, 16 Jul 2021</td>  <th>  AIC                </th> <td>1626.156</td>\n",
       "</tr>\n",
       "<tr>\n",
       "  <th>Time:</th>               <td>18:00:27</td>      <th>  BIC                </th> <td>1649.356</td>\n",
       "</tr>\n",
       "<tr>\n",
       "  <th>Sample:</th>            <td>01-01-1950</td>     <th>  HQIC               </th> <td>1635.087</td>\n",
       "</tr>\n",
       "<tr>\n",
       "  <th></th>                  <td>- 09-01-2013</td>    <th>                     </th>     <td> </td>   \n",
       "</tr>\n",
       "</table>\n",
       "<table class=\"simpletable\">\n",
       "<tr>\n",
       "              <td></td>                <th>coef</th>     <th>std err</th>      <th>z</th>      <th>P>|z|</th>  <th>[0.025</th>    <th>0.975]</th>  \n",
       "</tr>\n",
       "<tr>\n",
       "  <th>const</th>                    <td>   24.6333</td> <td>    0.078</td> <td>  316.340</td> <td> 0.000</td> <td>   24.481</td> <td>   24.786</td>\n",
       "</tr>\n",
       "<tr>\n",
       "  <th>ar.L1.AverageTemperature</th> <td>    0.3759</td> <td>    0.054</td> <td>    6.962</td> <td> 0.000</td> <td>    0.270</td> <td>    0.482</td>\n",
       "</tr>\n",
       "<tr>\n",
       "  <th>ma.L1.AverageTemperature</th> <td>    0.6362</td> <td>    0.053</td> <td>   11.969</td> <td> 0.000</td> <td>    0.532</td> <td>    0.740</td>\n",
       "</tr>\n",
       "<tr>\n",
       "  <th>ma.L2.AverageTemperature</th> <td>    0.3001</td> <td>    0.039</td> <td>    7.660</td> <td> 0.000</td> <td>    0.223</td> <td>    0.377</td>\n",
       "</tr>\n",
       "</table>\n",
       "<table class=\"simpletable\">\n",
       "<caption>Roots</caption>\n",
       "<tr>\n",
       "    <td></td>   <th>            Real</th>  <th>         Imaginary</th> <th>         Modulus</th>  <th>        Frequency</th>\n",
       "</tr>\n",
       "<tr>\n",
       "  <th>AR.1</th> <td>           2.6605</td> <td>          +0.0000j</td> <td>           2.6605</td> <td>           0.0000</td>\n",
       "</tr>\n",
       "<tr>\n",
       "  <th>MA.1</th> <td>          -1.0597</td> <td>          -1.4862j</td> <td>           1.8253</td> <td>          -0.3486</td>\n",
       "</tr>\n",
       "<tr>\n",
       "  <th>MA.2</th> <td>          -1.0597</td> <td>          +1.4862j</td> <td>           1.8253</td> <td>           0.3486</td>\n",
       "</tr>\n",
       "</table>"
      ],
      "text/plain": [
       "<class 'statsmodels.iolib.summary.Summary'>\n",
       "\"\"\"\n",
       "                              ARMA Model Results                              \n",
       "==============================================================================\n",
       "Dep. Variable:     AverageTemperature   No. Observations:                  765\n",
       "Model:                     ARMA(1, 2)   Log Likelihood                -808.078\n",
       "Method:                       css-mle   S.D. of innovations              0.695\n",
       "Date:                Fri, 16 Jul 2021   AIC                           1626.156\n",
       "Time:                        18:00:27   BIC                           1649.356\n",
       "Sample:                    01-01-1950   HQIC                          1635.087\n",
       "                         - 09-01-2013                                         \n",
       "============================================================================================\n",
       "                               coef    std err          z      P>|z|      [0.025      0.975]\n",
       "--------------------------------------------------------------------------------------------\n",
       "const                       24.6333      0.078    316.340      0.000      24.481      24.786\n",
       "ar.L1.AverageTemperature     0.3759      0.054      6.962      0.000       0.270       0.482\n",
       "ma.L1.AverageTemperature     0.6362      0.053     11.969      0.000       0.532       0.740\n",
       "ma.L2.AverageTemperature     0.3001      0.039      7.660      0.000       0.223       0.377\n",
       "                                    Roots                                    \n",
       "=============================================================================\n",
       "                  Real          Imaginary           Modulus         Frequency\n",
       "-----------------------------------------------------------------------------\n",
       "AR.1            2.6605           +0.0000j            2.6605            0.0000\n",
       "MA.1           -1.0597           -1.4862j            1.8253           -0.3486\n",
       "MA.2           -1.0597           +1.4862j            1.8253            0.3486\n",
       "-----------------------------------------------------------------------------\n",
       "\"\"\""
      ]
     },
     "execution_count": 37,
     "metadata": {},
     "output_type": "execute_result"
    }
   ],
   "source": [
    "results_MA.summary()"
   ]
  },
  {
   "cell_type": "code",
   "execution_count": 38,
   "id": "operating-century",
   "metadata": {},
   "outputs": [
    {
     "data": {
      "image/png": "[encoded data removed]",
      "text/plain": [
       "<Figure size 540x540 with 1 Axes>"
      ]
     },
     "metadata": {
      "needs_background": "light"
     },
     "output_type": "display_data"
    },
    {
     "data": {
      "text/plain": [
       "<Figure size 432x288 with 0 Axes>"
      ]
     },
     "metadata": {},
     "output_type": "display_data"
    }
   ],
   "source": [
    "plt.figure(figsize=(7.5,7.5))\n",
    "plt.plot(list(df_c.AverageTemperature)[:100], label=\"Actual\")\n",
    "plt.plot(list(results_MA.fittedvalues)[:100], 'r', label=\"Predicted\")\n",
    "\n",
    "plt.xlabel(\"Time (in Months)\")\n",
    "plt.ylabel(\"Temperature (C)\")\n",
    "#plt.xticks(df_c.Ticks,list(results_MA.fittedvalues))\n",
    "plt.title(\"Actual and Predicted Temperature Values\")\n",
    "\n",
    "plt.legend(loc='upper left', bbox_to_anchor=(1.45, 0.8))\n",
    "plt.show()\n",
    "plt.savefig(\"Actual vs Predicted Values for Contry Wise Prediction in Simple Form\")"
   ]
  },
  {
   "cell_type": "code",
   "execution_count": 39,
   "id": "wired-soccer",
   "metadata": {},
   "outputs": [
    {
     "data": {
      "text/plain": [
       "Timestamp('2262-04-11 23:47:16.854775807')"
      ]
     },
     "execution_count": 39,
     "metadata": {},
     "output_type": "execute_result"
    }
   ],
   "source": [
    "pd.Timestamp.max"
   ]
  },
  {
   "cell_type": "code",
   "execution_count": 40,
   "id": "angry-border",
   "metadata": {},
   "outputs": [
    {
     "data": {
      "text/plain": [
       "Timestamp('1677-09-21 00:12:43.145225')"
      ]
     },
     "execution_count": 40,
     "metadata": {},
     "output_type": "execute_result"
    }
   ],
   "source": [
    "pd.Timestamp.min"
   ]
  },
  {
   "cell_type": "code",
   "execution_count": 41,
   "id": "agreed-small",
   "metadata": {},
   "outputs": [],
   "source": [
    "predictions = results_MA.predict('01/01/1950','04/01/2262')"
   ]
  },
  {
   "cell_type": "code",
   "execution_count": 42,
   "id": "parallel-vault",
   "metadata": {},
   "outputs": [
    {
     "name": "stdout",
     "output_type": "stream",
     "text": [
      "1950-01-01    24.633285\n",
      "1950-02-01    24.289286\n",
      "1950-03-01    24.838186\n",
      "1950-04-01    26.010931\n",
      "1950-05-01    25.383161\n",
      "                ...    \n",
      "2261-12-01    24.633285\n",
      "2262-01-01    24.633285\n",
      "2262-02-01    24.633285\n",
      "2262-03-01    24.633285\n",
      "2262-04-01    24.633285\n",
      "Freq: MS, Length: 3748, dtype: float64\n"
     ]
    }
   ],
   "source": [
    "print(predictions)"
   ]
  },
  {
   "cell_type": "code",
   "execution_count": 43,
   "id": "cloudy-trouble",
   "metadata": {},
   "outputs": [
    {
     "name": "stdout",
     "output_type": "stream",
     "text": [
      "24.6332853325451\n"
     ]
    }
   ],
   "source": [
    "print(predictions['01-01-2262'])"
   ]
  },
  {
   "cell_type": "code",
   "execution_count": 44,
   "id": "graphic-temple",
   "metadata": {},
   "outputs": [],
   "source": [
    "#print(results_MA.predict('02/01/1970'))"
   ]
  },
  {
   "cell_type": "code",
   "execution_count": 46,
   "id": "consistent-extension",
   "metadata": {},
   "outputs": [
    {
     "name": "stdout",
     "output_type": "stream",
     "text": [
      "24.6332853325451\n"
     ]
    }
   ],
   "source": [
    "print(predictions['07-01-2021'])"
   ]
  },
  {
   "cell_type": "code",
   "execution_count": null,
   "id": "mental-genesis",
   "metadata": {},
   "outputs": [],
   "source": []
  }
 ],
 "metadata": {
  "kernelspec": {
   "display_name": "Python 3",
   "language": "python",
   "name": "python3"
  },
  "language_info": {
   "codemirror_mode": {
    "name": "ipython",
    "version": 3
   },
   "file_extension": ".py",
   "mimetype": "text/x-python",
   "name": "python",
   "nbconvert_exporter": "python",
   "pygments_lexer": "ipython3",
   "version": "3.9.2"
  }
 },
 "nbformat": 4,
 "nbformat_minor": 5
}
