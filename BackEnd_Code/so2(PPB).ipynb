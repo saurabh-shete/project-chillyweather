{
 "cells": [
  {
   "cell_type": "code",
   "execution_count": 1,
   "id": "athletic-glasgow",
   "metadata": {},
   "outputs": [],
   "source": [
    "import pandas as pd\n",
    "import numpy as np \n",
    "import matplotlib.pyplot as plt"
   ]
  },
  {
   "cell_type": "code",
   "execution_count": 2,
   "id": "certain-think",
   "metadata": {},
   "outputs": [
    {
     "name": "stdout",
     "output_type": "stream",
     "text": [
      "[ 3.        3.        2.975     2.975     1.958333  1.958333  1.9375\n",
      "  1.9375    5.25      5.25      5.2       5.2       7.083333  7.083333\n",
      "  7.05      7.05      8.708333  8.708333  8.7       8.7       6.761905\n",
      "  6.761905  7.066667  7.066667  8.666667  8.666667  8.6375    8.6375\n",
      "  8.25      8.25      8.2125    8.2125    6.5       6.5       6.475\n",
      "  6.475     9.958333  9.958333  9.925     9.925    11.625    11.625\n",
      " 11.6      11.6      10.916667 10.916667 10.875    10.875    10.952381\n",
      " 10.952381 11.766667 11.766667 11.625    11.625    11.5875   11.5875\n",
      "  9.583333  9.583333  9.55      9.55      6.458333  6.458333  6.4375\n",
      "  6.4375    8.5       8.5       8.45      8.45     12.166667 12.166667\n",
      " 12.125    12.125    10.166667 10.166667 10.1375   10.1375    9.391304\n",
      "  9.391304  9.5       9.5       7.958333  7.958333  7.9       7.9\n",
      "  6.875     6.875     6.85      6.85      6.791667  6.791667  6.7625\n",
      "  6.7625    9.083333  9.083333  9.05      9.05      7.833333  7.833333\n",
      "  7.8       7.8       3.363636]\n"
     ]
    }
   ],
   "source": [
    "dataset = pd.read_csv('DataSet/so2.csv', parse_dates=['Date Local'])\n",
    "date = dataset[\"Date Local\"]\n",
    "means = dataset.iloc[:, 2].values\n",
    "print(means)"
   ]
  },
  {
   "cell_type": "code",
   "execution_count": 3,
   "id": "valued-maryland",
   "metadata": {},
   "outputs": [],
   "source": [
    "def wrangle(df):\n",
    "    \n",
    "    df[\"Date Local\"]=pd.to_datetime(df[\"Date Local\"])\n",
    "    df[\"Month\"]=df[\"Date Local\"].dt.month\n",
    "    df[\"Year\"]=df[\"Date Local\"].dt.year\n",
    "    df=df.drop(\"Date Local\",axis=1)\n",
    "    df=df.drop(\"Month\",axis=1)\n",
    "    df=df[df.Year>=1850]\n",
    "    df=df.set_index(['Year'])\n",
    "    #date=df.iloc[:,:0]\n",
    "    \n",
    "    \n",
    "    df=df.dropna()\n",
    "    \n",
    "    return df"
   ]
  },
  {
   "cell_type": "code",
   "execution_count": 4,
   "id": "abroad-nylon",
   "metadata": {},
   "outputs": [],
   "source": [
    "dataset = wrangle(dataset)"
   ]
  },
  {
   "cell_type": "code",
   "execution_count": 5,
   "id": "respiratory-cross",
   "metadata": {},
   "outputs": [
    {
     "data": {
      "text/html": [
       "<div>\n",
       "<style scoped>\n",
       "    .dataframe tbody tr th:only-of-type {\n",
       "        vertical-align: middle;\n",
       "    }\n",
       "\n",
       "    .dataframe tbody tr th {\n",
       "        vertical-align: top;\n",
       "    }\n",
       "\n",
       "    .dataframe thead th {\n",
       "        text-align: right;\n",
       "    }\n",
       "</style>\n",
       "<table border=\"1\" class=\"dataframe\">\n",
       "  <thead>\n",
       "    <tr style=\"text-align: right;\">\n",
       "      <th></th>\n",
       "      <th>SO2 Units</th>\n",
       "      <th>SO2 Mean</th>\n",
       "    </tr>\n",
       "    <tr>\n",
       "      <th>Year</th>\n",
       "      <th></th>\n",
       "      <th></th>\n",
       "    </tr>\n",
       "  </thead>\n",
       "  <tbody>\n",
       "    <tr>\n",
       "      <th>1917</th>\n",
       "      <td>Parts per billion</td>\n",
       "      <td>3.000000</td>\n",
       "    </tr>\n",
       "    <tr>\n",
       "      <th>1918</th>\n",
       "      <td>Parts per billion</td>\n",
       "      <td>3.000000</td>\n",
       "    </tr>\n",
       "    <tr>\n",
       "      <th>1919</th>\n",
       "      <td>Parts per billion</td>\n",
       "      <td>2.975000</td>\n",
       "    </tr>\n",
       "    <tr>\n",
       "      <th>1920</th>\n",
       "      <td>Parts per billion</td>\n",
       "      <td>2.975000</td>\n",
       "    </tr>\n",
       "    <tr>\n",
       "      <th>1921</th>\n",
       "      <td>Parts per billion</td>\n",
       "      <td>1.958333</td>\n",
       "    </tr>\n",
       "    <tr>\n",
       "      <th>...</th>\n",
       "      <td>...</td>\n",
       "      <td>...</td>\n",
       "    </tr>\n",
       "    <tr>\n",
       "      <th>2013</th>\n",
       "      <td>Parts per billion</td>\n",
       "      <td>7.833333</td>\n",
       "    </tr>\n",
       "    <tr>\n",
       "      <th>2014</th>\n",
       "      <td>Parts per billion</td>\n",
       "      <td>7.833333</td>\n",
       "    </tr>\n",
       "    <tr>\n",
       "      <th>2015</th>\n",
       "      <td>Parts per billion</td>\n",
       "      <td>7.800000</td>\n",
       "    </tr>\n",
       "    <tr>\n",
       "      <th>2016</th>\n",
       "      <td>Parts per billion</td>\n",
       "      <td>7.800000</td>\n",
       "    </tr>\n",
       "    <tr>\n",
       "      <th>2017</th>\n",
       "      <td>Parts per billion</td>\n",
       "      <td>3.363636</td>\n",
       "    </tr>\n",
       "  </tbody>\n",
       "</table>\n",
       "<p>101 rows × 2 columns</p>\n",
       "</div>"
      ],
      "text/plain": [
       "              SO2 Units  SO2 Mean\n",
       "Year                             \n",
       "1917  Parts per billion  3.000000\n",
       "1918  Parts per billion  3.000000\n",
       "1919  Parts per billion  2.975000\n",
       "1920  Parts per billion  2.975000\n",
       "1921  Parts per billion  1.958333\n",
       "...                 ...       ...\n",
       "2013  Parts per billion  7.833333\n",
       "2014  Parts per billion  7.833333\n",
       "2015  Parts per billion  7.800000\n",
       "2016  Parts per billion  7.800000\n",
       "2017  Parts per billion  3.363636\n",
       "\n",
       "[101 rows x 2 columns]"
      ]
     },
     "execution_count": 5,
     "metadata": {},
     "output_type": "execute_result"
    }
   ],
   "source": [
    "dataset"
   ]
  },
  {
   "cell_type": "code",
   "execution_count": 6,
   "id": "arctic-attempt",
   "metadata": {},
   "outputs": [
    {
     "name": "stdout",
     "output_type": "stream",
     "text": [
      "<class 'pandas.core.frame.DataFrame'>\n",
      "Int64Index: 101 entries, 1917 to 2017\n",
      "Data columns (total 2 columns):\n",
      " #   Column     Non-Null Count  Dtype  \n",
      "---  ------     --------------  -----  \n",
      " 0   SO2 Units  101 non-null    object \n",
      " 1   SO2 Mean   101 non-null    float64\n",
      "dtypes: float64(1), object(1)\n",
      "memory usage: 2.4+ KB\n"
     ]
    }
   ],
   "source": [
    "dataset.info()"
   ]
  },
  {
   "cell_type": "code",
   "execution_count": 7,
   "id": "after-reality",
   "metadata": {},
   "outputs": [],
   "source": [
    "dataset = dataset.drop(columns=['SO2 Units'],axis=1)"
   ]
  },
  {
   "cell_type": "code",
   "execution_count": 8,
   "id": "saving-insulation",
   "metadata": {},
   "outputs": [
    {
     "name": "stdout",
     "output_type": "stream",
     "text": [
      "<class 'pandas.core.frame.DataFrame'>\n",
      "Int64Index: 101 entries, 1917 to 2017\n",
      "Data columns (total 1 columns):\n",
      " #   Column    Non-Null Count  Dtype  \n",
      "---  ------    --------------  -----  \n",
      " 0   SO2 Mean  101 non-null    float64\n",
      "dtypes: float64(1)\n",
      "memory usage: 1.6 KB\n"
     ]
    }
   ],
   "source": [
    "dataset.info()"
   ]
  },
  {
   "cell_type": "code",
   "execution_count": 9,
   "id": "competitive-crack",
   "metadata": {},
   "outputs": [],
   "source": [
    "year_temp=[]\n",
    "for i in range(len(date)):\n",
    "    year_temp.append(date[i].year) \n",
    "year_temp = np.array(year_temp)\n",
    "year_temp = year_temp.reshape(-1, 1)\n"
   ]
  },
  {
   "cell_type": "code",
   "execution_count": 10,
   "id": "amino-selling",
   "metadata": {},
   "outputs": [],
   "source": [
    "from sklearn.model_selection import train_test_split\n",
    "X_train,X_test,y_train,y_test= train_test_split(year_temp,means,test_size=0.1,random_state=10)"
   ]
  },
  {
   "cell_type": "code",
   "execution_count": 11,
   "id": "settled-johnston",
   "metadata": {},
   "outputs": [
    {
     "data": {
      "text/plain": [
       "PolynomialFeatures(degree=3)"
      ]
     },
     "execution_count": 11,
     "metadata": {},
     "output_type": "execute_result"
    }
   ],
   "source": [
    "from sklearn.preprocessing import PolynomialFeatures\n",
    "from sklearn.linear_model import LinearRegression\n",
    "poly_reg = PolynomialFeatures(degree = 3)\n",
    "year_temp_poly = poly_reg.fit_transform(year_temp)\n",
    "poly_reg.fit(year_temp_poly, means)"
   ]
  },
  {
   "cell_type": "code",
   "execution_count": 12,
   "id": "central-helen",
   "metadata": {},
   "outputs": [
    {
     "data": {
      "text/plain": [
       "LinearRegression()"
      ]
     },
     "execution_count": 12,
     "metadata": {},
     "output_type": "execute_result"
    }
   ],
   "source": [
    "lin_reg_2 = LinearRegression()\n",
    "lin_reg_2.fit(year_temp_poly, means)"
   ]
  },
  {
   "cell_type": "code",
   "execution_count": 13,
   "id": "declared-button",
   "metadata": {},
   "outputs": [
    {
     "data": {
      "image/png": "[encoded data removed]",
      "text/plain": [
       "<Figure size 576x360 with 1 Axes>"
      ]
     },
     "metadata": {
      "needs_background": "light"
     },
     "output_type": "display_data"
    }
   ],
   "source": [
    "plt.figure(figsize=(8,5))\n",
    "plt.scatter(year_temp, means, color = 'red',label=\"SO2 Values PPB\")\n",
    "plt.plot(year_temp, lin_reg_2.predict(poly_reg.fit_transform(year_temp)), color = 'blue',label=\"Polynomial Regressor\")\n",
    "plt.title(\"Mean SO2(PPB) Values 19-2017\")\n",
    "plt.xlabel(\"Years\")\n",
    "plt.ylabel(\"Temperature\")\n",
    "plt.legend(loc=\"upper left\")\n",
    "plt.show()"
   ]
  },
  {
   "cell_type": "code",
   "execution_count": 14,
   "id": "married-raleigh",
   "metadata": {},
   "outputs": [
    {
     "name": "stdout",
     "output_type": "stream",
     "text": [
      "The Mean Squared Error is  2.2588\n"
     ]
    }
   ],
   "source": [
    "z = lin_reg_2.predict(poly_reg.fit_transform(year_temp))\n",
    "\n",
    "from sklearn.metrics import mean_squared_error\n",
    "print(\"The Mean Squared Error is \",round(mean_squared_error(means, z),4))\n",
    "\n",
    "#Mean Square Error"
   ]
  },
  {
   "cell_type": "code",
   "execution_count": 15,
   "id": "regular-calcium",
   "metadata": {},
   "outputs": [
    {
     "name": "stdout",
     "output_type": "stream",
     "text": [
      "[4.91328964]\n"
     ]
    }
   ],
   "source": [
    "print(lin_reg_2.predict(poly_reg.fit_transform([[2050]])))\n",
    "#print(dataset_2.loc[len(dataset_2)-1,\"ANNUAL\"])"
   ]
  },
  {
   "cell_type": "code",
   "execution_count": null,
   "id": "generous-delight",
   "metadata": {},
   "outputs": [],
   "source": []
  }
 ],
 "metadata": {
  "kernelspec": {
   "display_name": "Python 3",
   "language": "python",
   "name": "python3"
  },
  "language_info": {
   "codemirror_mode": {
    "name": "ipython",
    "version": 3
   },
   "file_extension": ".py",
   "mimetype": "text/x-python",
   "name": "python",
   "nbconvert_exporter": "python",
   "pygments_lexer": "ipython3",
   "version": "3.9.2"
  }
 },
 "nbformat": 4,
 "nbformat_minor": 5
}
