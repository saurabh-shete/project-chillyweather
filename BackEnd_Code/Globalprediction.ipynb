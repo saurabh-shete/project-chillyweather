{
 "cells": [
  {
   "cell_type": "code",
   "execution_count": 1,
   "id": "forbidden-electricity",
   "metadata": {},
   "outputs": [],
   "source": [
    "import pandas as pd\n",
    "import numpy as np \n",
    "import matplotlib.pyplot as plt\n",
    "import datapackage\n",
    "import datetime\n",
    "import seaborn as sns\n",
    "import warnings\n",
    "warnings.filterwarnings(\"ignore\")"
   ]
  },
  {
   "cell_type": "code",
   "execution_count": 2,
   "id": "chief-roman",
   "metadata": {},
   "outputs": [
    {
     "data": {
      "text/plain": [
       "(1992, 18)"
      ]
     },
     "execution_count": 2,
     "metadata": {},
     "output_type": "execute_result"
    }
   ],
   "source": [
    "globaltemp=pd.read_csv('DataSet/GlobalTemperatures 2.csv',parse_dates=['dt','YEAR'])\n",
    "#globaltemp[\"Year\"]=globaltemp[\"YEAR\"].dt.year\n",
    "#globaltemp=globaltemp[globaltemp.Year>=1850]\n",
    "#globaltemp[\"Year\"]=pd.to_datetime(globaltemp[\"Year\"])\n",
    "date=globaltemp[\"YEAR\"]\n",
    "globaltemp.shape"
   ]
  },
  {
   "cell_type": "code",
   "execution_count": 3,
   "id": "governing-michigan",
   "metadata": {},
   "outputs": [
    {
     "data": {
      "text/plain": [
       "Index(['dt', 'LandAverageTemperature', 'LandAverageTemperatureUncertainty',\n",
       "       'LandMaxTemperature', 'LandMaxTemperatureUncertainty',\n",
       "       'LandMinTemperature', 'LandMinTemperatureUncertainty',\n",
       "       'LandAndOceanAverageTemperature',\n",
       "       'LandAndOceanAverageTemperatureUncertainty', 'Unnamed: 9',\n",
       "       'Unnamed: 10', 'Unnamed: 11', 'Unnamed: 12', 'YEAR', 'Unnamed: 14',\n",
       "       'Unnamed: 15', 'Unnamed: 16', 'Unnamed: 17'],\n",
       "      dtype='object')"
      ]
     },
     "execution_count": 3,
     "metadata": {},
     "output_type": "execute_result"
    }
   ],
   "source": [
    "globaltemp.columns"
   ]
  },
  {
   "cell_type": "code",
   "execution_count": 4,
   "id": "instrumental-teens",
   "metadata": {},
   "outputs": [
    {
     "name": "stdout",
     "output_type": "stream",
     "text": [
      "<class 'pandas.core.frame.DataFrame'>\n",
      "RangeIndex: 1992 entries, 0 to 1991\n",
      "Data columns (total 9 columns):\n",
      " #   Column                                     Non-Null Count  Dtype         \n",
      "---  ------                                     --------------  -----         \n",
      " 0   dt                                         1992 non-null   datetime64[ns]\n",
      " 1   LandAverageTemperature                     1992 non-null   float64       \n",
      " 2   LandAverageTemperatureUncertainty          1992 non-null   float64       \n",
      " 3   LandMaxTemperature                         1992 non-null   float64       \n",
      " 4   LandMaxTemperatureUncertainty              1992 non-null   float64       \n",
      " 5   LandMinTemperature                         1992 non-null   float64       \n",
      " 6   LandMinTemperatureUncertainty              1992 non-null   float64       \n",
      " 7   LandAndOceanAverageTemperature             1992 non-null   float64       \n",
      " 8   LandAndOceanAverageTemperatureUncertainty  1992 non-null   float64       \n",
      "dtypes: datetime64[ns](1), float64(8)\n",
      "memory usage: 140.2 KB\n"
     ]
    }
   ],
   "source": [
    "globaltemp=globaltemp.drop(columns=['YEAR','Unnamed: 9','Unnamed: 10','Unnamed: 11','Unnamed: 12','Unnamed: 14','Unnamed: 15','Unnamed: 16','Unnamed: 17'],axis=1)\n",
    "\n",
    "globaltemp.info()"
   ]
  },
  {
   "cell_type": "code",
   "execution_count": 5,
   "id": "arranged-attraction",
   "metadata": {},
   "outputs": [
    {
     "data": {
      "text/plain": [
       "dt                                           0\n",
       "LandAverageTemperature                       0\n",
       "LandAverageTemperatureUncertainty            0\n",
       "LandMaxTemperature                           0\n",
       "LandMaxTemperatureUncertainty                0\n",
       "LandMinTemperature                           0\n",
       "LandMinTemperatureUncertainty                0\n",
       "LandAndOceanAverageTemperature               0\n",
       "LandAndOceanAverageTemperatureUncertainty    0\n",
       "dtype: int64"
      ]
     },
     "execution_count": 5,
     "metadata": {},
     "output_type": "execute_result"
    }
   ],
   "source": [
    "globaltemp.isnull().sum()"
   ]
  },
  {
   "cell_type": "code",
   "execution_count": 6,
   "id": "transparent-johnston",
   "metadata": {},
   "outputs": [],
   "source": [
    "\n",
    "def wrangle(df):\n",
    "\n",
    "\n",
    "    def convertTemp(x):\n",
    "        x=(x*1.8)+32\n",
    "        return float(x)\n",
    "\n",
    "\n",
    "\n",
    "    df['LandAverageTemperature']=df['LandAverageTemperature'].apply(convertTemp)\n",
    "    df['LandMaxTemperature']=df['LandMaxTemperature'].apply(convertTemp)\n",
    "    df['LandMinTemperature']=df['LandMinTemperature'].apply(convertTemp)\n",
    "    df['LandAndOceanAverageTemperature']=df['LandAndOceanAverageTemperature'].apply(convertTemp)\n",
    "    \n",
    "    df[\"dt\"]=pd.to_datetime(df[\"dt\"])\n",
    "    df[\"Month\"]=df[\"dt\"].dt.month\n",
    "    df[\"Year\"]=df[\"dt\"].dt.year\n",
    "    df=df.drop(\"dt\",axis=1)\n",
    "    df=df.drop(\"Month\",axis=1)\n",
    "    df=df[df.Year>=1850]\n",
    "    df=df.set_index(['Year'])\n",
    "    #date=df.iloc[:,:0]\n",
    "    \n",
    "    \n",
    "    df=df.dropna()\n",
    "    \n",
    "    return df\n",
    "\n",
    "\n"
   ]
  },
  {
   "cell_type": "code",
   "execution_count": 7,
   "id": "mighty-badge",
   "metadata": {},
   "outputs": [
    {
     "data": {
      "text/html": [
       "<div>\n",
       "<style scoped>\n",
       "    .dataframe tbody tr th:only-of-type {\n",
       "        vertical-align: middle;\n",
       "    }\n",
       "\n",
       "    .dataframe tbody tr th {\n",
       "        vertical-align: top;\n",
       "    }\n",
       "\n",
       "    .dataframe thead th {\n",
       "        text-align: right;\n",
       "    }\n",
       "</style>\n",
       "<table border=\"1\" class=\"dataframe\">\n",
       "  <thead>\n",
       "    <tr style=\"text-align: right;\">\n",
       "      <th></th>\n",
       "      <th>LandAverageTemperature</th>\n",
       "      <th>LandAverageTemperatureUncertainty</th>\n",
       "      <th>LandMaxTemperature</th>\n",
       "      <th>LandMaxTemperatureUncertainty</th>\n",
       "      <th>LandMinTemperature</th>\n",
       "      <th>LandMinTemperatureUncertainty</th>\n",
       "      <th>LandAndOceanAverageTemperature</th>\n",
       "      <th>LandAndOceanAverageTemperatureUncertainty</th>\n",
       "    </tr>\n",
       "  </thead>\n",
       "  <tbody>\n",
       "    <tr>\n",
       "      <th>count</th>\n",
       "      <td>1992.000000</td>\n",
       "      <td>1992.000000</td>\n",
       "      <td>1992.000000</td>\n",
       "      <td>1992.000000</td>\n",
       "      <td>1992.000000</td>\n",
       "      <td>1992.000000</td>\n",
       "      <td>1992.000000</td>\n",
       "      <td>1992.000000</td>\n",
       "    </tr>\n",
       "    <tr>\n",
       "      <th>mean</th>\n",
       "      <td>47.428849</td>\n",
       "      <td>0.276663</td>\n",
       "      <td>57.831082</td>\n",
       "      <td>0.479782</td>\n",
       "      <td>36.938472</td>\n",
       "      <td>0.431849</td>\n",
       "      <td>59.382618</td>\n",
       "      <td>0.128532</td>\n",
       "    </tr>\n",
       "    <tr>\n",
       "      <th>std</th>\n",
       "      <td>7.673747</td>\n",
       "      <td>0.224030</td>\n",
       "      <td>7.757242</td>\n",
       "      <td>0.583203</td>\n",
       "      <td>7.480504</td>\n",
       "      <td>0.445838</td>\n",
       "      <td>2.293367</td>\n",
       "      <td>0.073587</td>\n",
       "    </tr>\n",
       "    <tr>\n",
       "      <th>min</th>\n",
       "      <td>32.727200</td>\n",
       "      <td>0.034000</td>\n",
       "      <td>42.620000</td>\n",
       "      <td>0.044000</td>\n",
       "      <td>22.267400</td>\n",
       "      <td>0.045000</td>\n",
       "      <td>54.455000</td>\n",
       "      <td>0.042000</td>\n",
       "    </tr>\n",
       "    <tr>\n",
       "      <th>25%</th>\n",
       "      <td>39.974000</td>\n",
       "      <td>0.099750</td>\n",
       "      <td>50.381600</td>\n",
       "      <td>0.142000</td>\n",
       "      <td>29.597900</td>\n",
       "      <td>0.155000</td>\n",
       "      <td>57.284600</td>\n",
       "      <td>0.063000</td>\n",
       "    </tr>\n",
       "    <tr>\n",
       "      <th>50%</th>\n",
       "      <td>47.930900</td>\n",
       "      <td>0.230000</td>\n",
       "      <td>58.568000</td>\n",
       "      <td>0.252000</td>\n",
       "      <td>37.309100</td>\n",
       "      <td>0.279000</td>\n",
       "      <td>59.451800</td>\n",
       "      <td>0.122000</td>\n",
       "    </tr>\n",
       "    <tr>\n",
       "      <th>75%</th>\n",
       "      <td>55.145300</td>\n",
       "      <td>0.347250</td>\n",
       "      <td>65.212700</td>\n",
       "      <td>0.539000</td>\n",
       "      <td>44.201750</td>\n",
       "      <td>0.458250</td>\n",
       "      <td>61.513250</td>\n",
       "      <td>0.151000</td>\n",
       "    </tr>\n",
       "    <tr>\n",
       "      <th>max</th>\n",
       "      <td>59.867600</td>\n",
       "      <td>1.492000</td>\n",
       "      <td>70.376000</td>\n",
       "      <td>4.373000</td>\n",
       "      <td>49.487000</td>\n",
       "      <td>3.498000</td>\n",
       "      <td>63.699800</td>\n",
       "      <td>0.457000</td>\n",
       "    </tr>\n",
       "  </tbody>\n",
       "</table>\n",
       "</div>"
      ],
      "text/plain": [
       "       LandAverageTemperature  LandAverageTemperatureUncertainty  \\\n",
       "count             1992.000000                        1992.000000   \n",
       "mean                47.428849                           0.276663   \n",
       "std                  7.673747                           0.224030   \n",
       "min                 32.727200                           0.034000   \n",
       "25%                 39.974000                           0.099750   \n",
       "50%                 47.930900                           0.230000   \n",
       "75%                 55.145300                           0.347250   \n",
       "max                 59.867600                           1.492000   \n",
       "\n",
       "       LandMaxTemperature  LandMaxTemperatureUncertainty  LandMinTemperature  \\\n",
       "count         1992.000000                    1992.000000         1992.000000   \n",
       "mean            57.831082                       0.479782           36.938472   \n",
       "std              7.757242                       0.583203            7.480504   \n",
       "min             42.620000                       0.044000           22.267400   \n",
       "25%             50.381600                       0.142000           29.597900   \n",
       "50%             58.568000                       0.252000           37.309100   \n",
       "75%             65.212700                       0.539000           44.201750   \n",
       "max             70.376000                       4.373000           49.487000   \n",
       "\n",
       "       LandMinTemperatureUncertainty  LandAndOceanAverageTemperature  \\\n",
       "count                    1992.000000                     1992.000000   \n",
       "mean                        0.431849                       59.382618   \n",
       "std                         0.445838                        2.293367   \n",
       "min                         0.045000                       54.455000   \n",
       "25%                         0.155000                       57.284600   \n",
       "50%                         0.279000                       59.451800   \n",
       "75%                         0.458250                       61.513250   \n",
       "max                         3.498000                       63.699800   \n",
       "\n",
       "       LandAndOceanAverageTemperatureUncertainty  \n",
       "count                                1992.000000  \n",
       "mean                                    0.128532  \n",
       "std                                     0.073587  \n",
       "min                                     0.042000  \n",
       "25%                                     0.063000  \n",
       "50%                                     0.122000  \n",
       "75%                                     0.151000  \n",
       "max                                     0.457000  "
      ]
     },
     "execution_count": 7,
     "metadata": {},
     "output_type": "execute_result"
    }
   ],
   "source": [
    "globaltemp=wrangle(globaltemp)\n",
    "globaltemp.describe()"
   ]
  },
  {
   "cell_type": "code",
   "execution_count": 8,
   "id": "massive-doctor",
   "metadata": {},
   "outputs": [
    {
     "data": {
      "text/html": [
       "<div>\n",
       "<style scoped>\n",
       "    .dataframe tbody tr th:only-of-type {\n",
       "        vertical-align: middle;\n",
       "    }\n",
       "\n",
       "    .dataframe tbody tr th {\n",
       "        vertical-align: top;\n",
       "    }\n",
       "\n",
       "    .dataframe thead th {\n",
       "        text-align: right;\n",
       "    }\n",
       "</style>\n",
       "<table border=\"1\" class=\"dataframe\">\n",
       "  <thead>\n",
       "    <tr style=\"text-align: right;\">\n",
       "      <th></th>\n",
       "      <th>LandAverageTemperature</th>\n",
       "      <th>LandAverageTemperatureUncertainty</th>\n",
       "      <th>LandMaxTemperature</th>\n",
       "      <th>LandMaxTemperatureUncertainty</th>\n",
       "      <th>LandMinTemperature</th>\n",
       "      <th>LandMinTemperatureUncertainty</th>\n",
       "      <th>LandAndOceanAverageTemperature</th>\n",
       "      <th>LandAndOceanAverageTemperatureUncertainty</th>\n",
       "    </tr>\n",
       "    <tr>\n",
       "      <th>Year</th>\n",
       "      <th></th>\n",
       "      <th></th>\n",
       "      <th></th>\n",
       "      <th></th>\n",
       "      <th></th>\n",
       "      <th></th>\n",
       "      <th></th>\n",
       "      <th></th>\n",
       "    </tr>\n",
       "  </thead>\n",
       "  <tbody>\n",
       "    <tr>\n",
       "      <th>1850</th>\n",
       "      <td>33.3482</td>\n",
       "      <td>1.105</td>\n",
       "      <td>46.8356</td>\n",
       "      <td>1.738</td>\n",
       "      <td>26.2292</td>\n",
       "      <td>2.822</td>\n",
       "      <td>55.0994</td>\n",
       "      <td>0.367</td>\n",
       "    </tr>\n",
       "    <tr>\n",
       "      <th>1850</th>\n",
       "      <td>37.5278</td>\n",
       "      <td>1.275</td>\n",
       "      <td>49.9460</td>\n",
       "      <td>3.007</td>\n",
       "      <td>27.8762</td>\n",
       "      <td>1.623</td>\n",
       "      <td>56.4584</td>\n",
       "      <td>0.414</td>\n",
       "    </tr>\n",
       "    <tr>\n",
       "      <th>1850</th>\n",
       "      <td>40.9172</td>\n",
       "      <td>0.955</td>\n",
       "      <td>50.6246</td>\n",
       "      <td>2.401</td>\n",
       "      <td>28.5710</td>\n",
       "      <td>1.410</td>\n",
       "      <td>57.2774</td>\n",
       "      <td>0.341</td>\n",
       "    </tr>\n",
       "    <tr>\n",
       "      <th>1850</th>\n",
       "      <td>44.9906</td>\n",
       "      <td>0.665</td>\n",
       "      <td>55.2812</td>\n",
       "      <td>1.004</td>\n",
       "      <td>33.8324</td>\n",
       "      <td>1.329</td>\n",
       "      <td>58.4006</td>\n",
       "      <td>0.267</td>\n",
       "    </tr>\n",
       "    <tr>\n",
       "      <th>1850</th>\n",
       "      <td>50.0072</td>\n",
       "      <td>0.617</td>\n",
       "      <td>60.1790</td>\n",
       "      <td>2.406</td>\n",
       "      <td>38.8598</td>\n",
       "      <td>1.347</td>\n",
       "      <td>59.9126</td>\n",
       "      <td>0.249</td>\n",
       "    </tr>\n",
       "  </tbody>\n",
       "</table>\n",
       "</div>"
      ],
      "text/plain": [
       "      LandAverageTemperature  LandAverageTemperatureUncertainty  \\\n",
       "Year                                                              \n",
       "1850                 33.3482                              1.105   \n",
       "1850                 37.5278                              1.275   \n",
       "1850                 40.9172                              0.955   \n",
       "1850                 44.9906                              0.665   \n",
       "1850                 50.0072                              0.617   \n",
       "\n",
       "      LandMaxTemperature  LandMaxTemperatureUncertainty  LandMinTemperature  \\\n",
       "Year                                                                          \n",
       "1850             46.8356                          1.738             26.2292   \n",
       "1850             49.9460                          3.007             27.8762   \n",
       "1850             50.6246                          2.401             28.5710   \n",
       "1850             55.2812                          1.004             33.8324   \n",
       "1850             60.1790                          2.406             38.8598   \n",
       "\n",
       "      LandMinTemperatureUncertainty  LandAndOceanAverageTemperature  \\\n",
       "Year                                                                  \n",
       "1850                          2.822                         55.0994   \n",
       "1850                          1.623                         56.4584   \n",
       "1850                          1.410                         57.2774   \n",
       "1850                          1.329                         58.4006   \n",
       "1850                          1.347                         59.9126   \n",
       "\n",
       "      LandAndOceanAverageTemperatureUncertainty  \n",
       "Year                                             \n",
       "1850                                      0.367  \n",
       "1850                                      0.414  \n",
       "1850                                      0.341  \n",
       "1850                                      0.267  \n",
       "1850                                      0.249  "
      ]
     },
     "execution_count": 8,
     "metadata": {},
     "output_type": "execute_result"
    }
   ],
   "source": [
    "globaltemp.head()"
   ]
  },
  {
   "cell_type": "code",
   "execution_count": 9,
   "id": "interesting-equality",
   "metadata": {},
   "outputs": [
    {
     "data": {
      "text/html": [
       "<div>\n",
       "<style scoped>\n",
       "    .dataframe tbody tr th:only-of-type {\n",
       "        vertical-align: middle;\n",
       "    }\n",
       "\n",
       "    .dataframe tbody tr th {\n",
       "        vertical-align: top;\n",
       "    }\n",
       "\n",
       "    .dataframe thead th {\n",
       "        text-align: right;\n",
       "    }\n",
       "</style>\n",
       "<table border=\"1\" class=\"dataframe\">\n",
       "  <thead>\n",
       "    <tr style=\"text-align: right;\">\n",
       "      <th></th>\n",
       "      <th>LandAverageTemperature</th>\n",
       "      <th>LandAverageTemperatureUncertainty</th>\n",
       "      <th>LandMaxTemperature</th>\n",
       "      <th>LandMaxTemperatureUncertainty</th>\n",
       "      <th>LandMinTemperature</th>\n",
       "      <th>LandMinTemperatureUncertainty</th>\n",
       "      <th>LandAndOceanAverageTemperature</th>\n",
       "      <th>LandAndOceanAverageTemperatureUncertainty</th>\n",
       "    </tr>\n",
       "    <tr>\n",
       "      <th>Year</th>\n",
       "      <th></th>\n",
       "      <th></th>\n",
       "      <th></th>\n",
       "      <th></th>\n",
       "      <th></th>\n",
       "      <th></th>\n",
       "      <th></th>\n",
       "      <th></th>\n",
       "    </tr>\n",
       "  </thead>\n",
       "  <tbody>\n",
       "    <tr>\n",
       "      <th>2015</th>\n",
       "      <td>58.5590</td>\n",
       "      <td>0.072</td>\n",
       "      <td>69.2582</td>\n",
       "      <td>0.110</td>\n",
       "      <td>48.2090</td>\n",
       "      <td>0.170</td>\n",
       "      <td>63.6602</td>\n",
       "      <td>0.057</td>\n",
       "    </tr>\n",
       "    <tr>\n",
       "      <th>2015</th>\n",
       "      <td>55.3982</td>\n",
       "      <td>0.079</td>\n",
       "      <td>65.9210</td>\n",
       "      <td>0.088</td>\n",
       "      <td>44.9582</td>\n",
       "      <td>0.229</td>\n",
       "      <td>62.6882</td>\n",
       "      <td>0.058</td>\n",
       "    </tr>\n",
       "    <tr>\n",
       "      <th>2015</th>\n",
       "      <td>51.4418</td>\n",
       "      <td>0.102</td>\n",
       "      <td>61.6100</td>\n",
       "      <td>0.059</td>\n",
       "      <td>41.4176</td>\n",
       "      <td>0.115</td>\n",
       "      <td>61.3220</td>\n",
       "      <td>0.062</td>\n",
       "    </tr>\n",
       "    <tr>\n",
       "      <th>2015</th>\n",
       "      <td>45.3794</td>\n",
       "      <td>0.119</td>\n",
       "      <td>55.2056</td>\n",
       "      <td>0.093</td>\n",
       "      <td>35.8826</td>\n",
       "      <td>0.106</td>\n",
       "      <td>59.4536</td>\n",
       "      <td>0.063</td>\n",
       "    </tr>\n",
       "    <tr>\n",
       "      <th>2015</th>\n",
       "      <td>41.9324</td>\n",
       "      <td>0.100</td>\n",
       "      <td>51.3050</td>\n",
       "      <td>0.154</td>\n",
       "      <td>32.5166</td>\n",
       "      <td>0.099</td>\n",
       "      <td>58.5932</td>\n",
       "      <td>0.062</td>\n",
       "    </tr>\n",
       "  </tbody>\n",
       "</table>\n",
       "</div>"
      ],
      "text/plain": [
       "      LandAverageTemperature  LandAverageTemperatureUncertainty  \\\n",
       "Year                                                              \n",
       "2015                 58.5590                              0.072   \n",
       "2015                 55.3982                              0.079   \n",
       "2015                 51.4418                              0.102   \n",
       "2015                 45.3794                              0.119   \n",
       "2015                 41.9324                              0.100   \n",
       "\n",
       "      LandMaxTemperature  LandMaxTemperatureUncertainty  LandMinTemperature  \\\n",
       "Year                                                                          \n",
       "2015             69.2582                          0.110             48.2090   \n",
       "2015             65.9210                          0.088             44.9582   \n",
       "2015             61.6100                          0.059             41.4176   \n",
       "2015             55.2056                          0.093             35.8826   \n",
       "2015             51.3050                          0.154             32.5166   \n",
       "\n",
       "      LandMinTemperatureUncertainty  LandAndOceanAverageTemperature  \\\n",
       "Year                                                                  \n",
       "2015                          0.170                         63.6602   \n",
       "2015                          0.229                         62.6882   \n",
       "2015                          0.115                         61.3220   \n",
       "2015                          0.106                         59.4536   \n",
       "2015                          0.099                         58.5932   \n",
       "\n",
       "      LandAndOceanAverageTemperatureUncertainty  \n",
       "Year                                             \n",
       "2015                                      0.057  \n",
       "2015                                      0.058  \n",
       "2015                                      0.062  \n",
       "2015                                      0.063  \n",
       "2015                                      0.062  "
      ]
     },
     "execution_count": 9,
     "metadata": {},
     "output_type": "execute_result"
    }
   ],
   "source": [
    "globaltemp.tail()"
   ]
  },
  {
   "cell_type": "code",
   "execution_count": 10,
   "id": "controlling-venture",
   "metadata": {},
   "outputs": [
    {
     "data": {
      "text/plain": [
       "Index(['LandAverageTemperature', 'LandAverageTemperatureUncertainty',\n",
       "       'LandMaxTemperature', 'LandMaxTemperatureUncertainty',\n",
       "       'LandMinTemperature', 'LandMinTemperatureUncertainty',\n",
       "       'LandAndOceanAverageTemperature',\n",
       "       'LandAndOceanAverageTemperatureUncertainty'],\n",
       "      dtype='object')"
      ]
     },
     "execution_count": 10,
     "metadata": {},
     "output_type": "execute_result"
    }
   ],
   "source": [
    "globaltemp.columns"
   ]
  },
  {
   "cell_type": "code",
   "execution_count": 11,
   "id": "based-milwaukee",
   "metadata": {},
   "outputs": [
    {
     "data": {
      "text/plain": [
       "(1992, 8)"
      ]
     },
     "execution_count": 11,
     "metadata": {},
     "output_type": "execute_result"
    }
   ],
   "source": [
    "globaltemp.shape"
   ]
  },
  {
   "cell_type": "code",
   "execution_count": 12,
   "id": "running-flooring",
   "metadata": {
    "scrolled": true
   },
   "outputs": [
    {
     "data": {
      "text/plain": [
       "LandAverageTemperature                       0\n",
       "LandAverageTemperatureUncertainty            0\n",
       "LandMaxTemperature                           0\n",
       "LandMaxTemperatureUncertainty                0\n",
       "LandMinTemperature                           0\n",
       "LandMinTemperatureUncertainty                0\n",
       "LandAndOceanAverageTemperature               0\n",
       "LandAndOceanAverageTemperatureUncertainty    0\n",
       "dtype: int64"
      ]
     },
     "execution_count": 12,
     "metadata": {},
     "output_type": "execute_result"
    }
   ],
   "source": [
    "globaltemp.isnull().sum()"
   ]
  },
  {
   "cell_type": "code",
   "execution_count": 13,
   "id": "oriented-weekly",
   "metadata": {},
   "outputs": [
    {
     "data": {
      "text/plain": [
       "<function matplotlib.pyplot.show(close=None, block=None)>"
      ]
     },
     "execution_count": 13,
     "metadata": {},
     "output_type": "execute_result"
    },
    {
     "data": {
      "image/png": "[encoded data removed]",
      "text/plain": [
       "<Figure size 432x288 with 2 Axes>"
      ]
     },
     "metadata": {
      "needs_background": "light"
     },
     "output_type": "display_data"
    }
   ],
   "source": [
    "corrmatrix=globaltemp.corr()\n",
    "sns.heatmap(corrmatrix,annot=True)\n",
    "plt.show"
   ]
  },
  {
   "cell_type": "code",
   "execution_count": 14,
   "id": "outstanding-coverage",
   "metadata": {},
   "outputs": [],
   "source": [
    "target='LandAndOceanAverageTemperature'\n",
    "y=globaltemp[target]\n",
    "x=globaltemp[['LandAverageTemperature','LandMaxTemperature','LandMinTemperature']]"
   ]
  },
  {
   "cell_type": "code",
   "execution_count": 15,
   "id": "pacific-profit",
   "metadata": {},
   "outputs": [],
   "source": [
    "from sklearn.model_selection import train_test_split\n",
    "x_train,x_test,y_train,y_test=train_test_split(x,y,test_size=0.25,random_state=10)"
   ]
  },
  {
   "cell_type": "code",
   "execution_count": 16,
   "id": "fewer-slave",
   "metadata": {},
   "outputs": [
    {
     "name": "stdout",
     "output_type": "stream",
     "text": [
      "(1494, 3)\n",
      "(498, 3)\n",
      "(1494,)\n",
      "(498,)\n"
     ]
    }
   ],
   "source": [
    "print(x_train.shape)\n",
    "print(x_test.shape)\n",
    "print(y_train.shape)\n",
    "print(y_test.shape)"
   ]
  },
  {
   "cell_type": "code",
   "execution_count": 17,
   "id": "returning-relations",
   "metadata": {},
   "outputs": [
    {
     "name": "stdout",
     "output_type": "stream",
     "text": [
      "Baseline MAE: 2.0255\n"
     ]
    }
   ],
   "source": [
    "from sklearn.metrics import mean_absolute_error\n",
    "y_pred=[y_train.mean()]*len(y_train)\n",
    "\n",
    "print('Baseline MAE:',round(mean_absolute_error(y_train,y_pred),5))"
   ]
  },
  {
   "cell_type": "code",
   "execution_count": 18,
   "id": "vulnerable-wallet",
   "metadata": {},
   "outputs": [
    {
     "data": {
      "text/plain": [
       "Pipeline(steps=[('selectkbest', SelectKBest(k='all')),\n",
       "                ('standardscaler', StandardScaler()),\n",
       "                ('randomforestregressor',\n",
       "                 RandomForestRegressor(max_depth=50, n_jobs=-1,\n",
       "                                       random_state=77))])"
      ]
     },
     "execution_count": 18,
     "metadata": {},
     "output_type": "execute_result"
    }
   ],
   "source": [
    "from sklearn.preprocessing import PolynomialFeatures\n",
    "from sklearn.feature_selection import SelectKBest\n",
    "from sklearn.preprocessing import StandardScaler\n",
    "from sklearn.ensemble import RandomForestRegressor\n",
    "from sklearn.pipeline import make_pipeline\n",
    "from sklearn.linear_model import LinearRegression\n",
    "\n",
    "forestmodel=make_pipeline(\n",
    "    SelectKBest(k=\"all\"),\n",
    "    StandardScaler(),\n",
    "    RandomForestRegressor(\n",
    "                            n_estimators=100,\n",
    "                            max_depth=50,\n",
    "                            random_state=77,\n",
    "                            n_jobs=-1)\n",
    ")\n",
    "\n",
    "\n",
    "\n",
    "forestmodel.fit(x_train,y_train)\n"
   ]
  },
  {
   "cell_type": "code",
   "execution_count": 19,
   "id": "yellow-deficit",
   "metadata": {},
   "outputs": [
    {
     "name": "stdout",
     "output_type": "stream",
     "text": [
      "Random Forest Regressor Model Training MAE 0.09133840963855713\n",
      "Random Forest Regressor Model Testing MAE 0.24499554216867692\n"
     ]
    }
   ],
   "source": [
    "print('Random Forest Regressor Model Training MAE',mean_absolute_error(y_train,forestmodel.predict(x_train)))\n",
    "print('Random Forest Regressor Model Testing MAE',mean_absolute_error(y_test,forestmodel.predict(x_test)))"
   ]
  },
  {
   "cell_type": "code",
   "execution_count": 20,
   "id": "pleasant-bleeding",
   "metadata": {},
   "outputs": [
    {
     "name": "stdout",
     "output_type": "stream",
     "text": [
      "Random Forest Regressor Model Prediction Accuracy 99.58 %.\n"
     ]
    }
   ],
   "source": [
    "y_pred=forestmodel.predict(x_test)\n",
    "\n",
    "errors=abs(y_pred-y_test)\n",
    "mape=100*(errors/y_train)\n",
    "accuracy=100-np.mean(mape)\n",
    "print(\"Random Forest Regressor Model Prediction Accuracy\",round(accuracy,2),\"%.\")"
   ]
  },
  {
   "cell_type": "code",
   "execution_count": 21,
   "id": "marked-aluminum",
   "metadata": {},
   "outputs": [
    {
     "data": {
      "image/png": "[encoded data removed]",
      "text/plain": [
       "<Figure size 576x504 with 1 Axes>"
      ]
     },
     "metadata": {
      "needs_background": "light"
     },
     "output_type": "display_data"
    },
    {
     "data": {
      "text/plain": [
       "<Figure size 432x288 with 0 Axes>"
      ]
     },
     "metadata": {},
     "output_type": "display_data"
    }
   ],
   "source": [
    "plt.figure(figsize=(8, 7))\n",
    "\n",
    "\n",
    "ax = sns.distplot(y, hist=False, color=\"r\", label=\"Actual Values\")\n",
    "sns.distplot(y_pred, hist=False, color=\"b\", label=\"Predicted Values\", ax=ax )\n",
    "plt.title('Actual vs Predicted Values for GlobalPrediction')\n",
    "\n",
    "plt.legend(loc=\"upper left\")\n",
    "\n",
    "plt.show()\n",
    "plt.close()\n",
    "plt.savefig(\"Actual vs Predicted Values for GlobalPrediction\")"
   ]
  },
  {
   "cell_type": "code",
   "execution_count": 22,
   "id": "developed-cincinnati",
   "metadata": {},
   "outputs": [],
   "source": [
    "year_temp=[]\n",
    "for i in range(len(date)):\n",
    "    year_temp.append(date[i].year)\n",
    "year_temp = np.array(year_temp)\n",
    "year_temp = year_temp.reshape(-1,1)"
   ]
  },
  {
   "cell_type": "code",
   "execution_count": 23,
   "id": "together-prize",
   "metadata": {},
   "outputs": [
    {
     "data": {
      "text/plain": [
       "PolynomialFeatures(degree=3)"
      ]
     },
     "execution_count": 23,
     "metadata": {},
     "output_type": "execute_result"
    }
   ],
   "source": [
    "poly_reg = PolynomialFeatures(degree = 3)\n",
    "year_tempp=poly_reg.fit_transform(year_temp)\n",
    "poly_reg.fit(year_tempp,y)"
   ]
  },
  {
   "cell_type": "code",
   "execution_count": 24,
   "id": "third-swedish",
   "metadata": {},
   "outputs": [
    {
     "data": {
      "text/plain": [
       "Pipeline(steps=[('selectkbest', SelectKBest(k='all')),\n",
       "                ('standardscaler', StandardScaler()),\n",
       "                ('randomforestregressor',\n",
       "                 RandomForestRegressor(max_depth=50, n_jobs=-1,\n",
       "                                       random_state=77))])"
      ]
     },
     "execution_count": 24,
     "metadata": {},
     "output_type": "execute_result"
    }
   ],
   "source": [
    "forestmodel.fit(year_tempp, y)"
   ]
  },
  {
   "cell_type": "code",
   "execution_count": 25,
   "id": "enhanced-original",
   "metadata": {},
   "outputs": [
    {
     "name": "stdout",
     "output_type": "stream",
     "text": [
      "[60.94576366]\n"
     ]
    }
   ],
   "source": [
    "l=2014\n",
    "print(forestmodel.predict(poly_reg.fit_transform([[2015]])))"
   ]
  },
  {
   "cell_type": "code",
   "execution_count": 26,
   "id": "advised-warrant",
   "metadata": {},
   "outputs": [
    {
     "name": "stdout",
     "output_type": "stream",
     "text": [
      "The Mean Squared Error is  4.9744\n"
     ]
    }
   ],
   "source": [
    "z = forestmodel.predict(poly_reg.fit_transform(year_temp))\n",
    "\n",
    "from sklearn.metrics import mean_squared_error\n",
    "print(\"The Mean Squared Error is \",round(mean_squared_error(y, z),4))"
   ]
  },
  {
   "cell_type": "code",
   "execution_count": 27,
   "id": "hidden-double",
   "metadata": {},
   "outputs": [
    {
     "data": {
      "text/plain": [
       "PolynomialFeatures(degree=3)"
      ]
     },
     "execution_count": 27,
     "metadata": {},
     "output_type": "execute_result"
    }
   ],
   "source": [
    "year_tempp=poly_reg.fit_transform(year_temp)\n",
    "poly_reg.fit(year_tempp,y)"
   ]
  },
  {
   "cell_type": "code",
   "execution_count": 28,
   "id": "occupied-agreement",
   "metadata": {},
   "outputs": [
    {
     "data": {
      "text/plain": [
       "LinearRegression()"
      ]
     },
     "execution_count": 28,
     "metadata": {},
     "output_type": "execute_result"
    }
   ],
   "source": [
    "lin_reg = LinearRegression()\n",
    "lin_reg.fit(year_tempp, y)"
   ]
  },
  {
   "cell_type": "code",
   "execution_count": 29,
   "id": "accurate-orientation",
   "metadata": {},
   "outputs": [],
   "source": [
    "from flask import Flask, render_template\n",
    "from flask import request"
   ]
  },
  {
   "cell_type": "code",
   "execution_count": 30,
   "id": "expired-ownership",
   "metadata": {},
   "outputs": [],
   "source": [
    "app = Flask(__name__,template_folder='templates')"
   ]
  },
  {
   "cell_type": "code",
   "execution_count": 31,
   "id": "stable-manual",
   "metadata": {},
   "outputs": [],
   "source": [
    "@app.route('/')\n",
    "def index():\n",
    "    return render_template('index.html')\n",
    "\n",
    "@app.route('/', methods=['POST'])\n",
    "def getvalue():\n",
    "    name = request.form['name']\n",
    "    ytp = int(request.form['ytp'])\n",
    "    yp = lin_reg.predict(poly_reg.fit_transform([[ytp]]))\n",
    "    y = np.round(yp,2)\n",
    "    return render_template('index.html', n=name, y=yp )\n"
   ]
  },
  {
   "cell_type": "code",
   "execution_count": 32,
   "id": "twelve-leone",
   "metadata": {},
   "outputs": [],
   "source": [
    "#if __name__ == '__main__':\n",
    "#    app.run(debug=False)"
   ]
  },
  {
   "cell_type": "code",
   "execution_count": 33,
   "id": "tropical-costume",
   "metadata": {},
   "outputs": [],
   "source": [
    "#print(lin_reg.predict(poly_reg.fit_transform([[2017]])))"
   ]
  },
  {
   "cell_type": "code",
   "execution_count": 34,
   "id": "creative-rouge",
   "metadata": {},
   "outputs": [],
   "source": [
    "#z = lin_reg.predict(poly_reg.fit_transform(year_temp))\n",
    "\n",
    "#from sklearn.metrics import mean_squared_error\n",
    "#print(\"The Mean Squared Error is \",round(mean_squared_error(y, z),4))"
   ]
  }
 ],
 "metadata": {
  "kernelspec": {
   "display_name": "Python 3",
   "language": "python",
   "name": "python3"
  },
  "language_info": {
   "codemirror_mode": {
    "name": "ipython",
    "version": 3
   },
   "file_extension": ".py",
   "mimetype": "text/x-python",
   "name": "python",
   "nbconvert_exporter": "python",
   "pygments_lexer": "ipython3",
   "version": "3.9.2"
  }
 },
 "nbformat": 4,
 "nbformat_minor": 5
}
