{
 "cells": [
  {
   "cell_type": "code",
   "execution_count": 1,
   "id": "forbidden-electricity",
   "metadata": {},
   "outputs": [],
   "source": [
    "import pandas as pd\n",
    "import numpy as np \n",
    "import matplotlib.pyplot as plt\n",
    "import seaborn as sns\n",
    "import warnings\n",
    "warnings.filterwarnings(\"ignore\")"
   ]
  },
  {
   "cell_type": "markdown",
   "id": "cutting-phase",
   "metadata": {},
   "source": [
    "#globaltemp[\"Year\"]=globaltemp[\"YEAR\"].dt.year\n",
    "#globaltemp=globaltemp[globaltemp.Year>=1850]\n",
    "#globaltemp[\"Year\"]=pd.to_datetime(globaltemp[\"Year\"])"
   ]
  },
  {
   "cell_type": "code",
   "execution_count": 2,
   "id": "chief-roman",
   "metadata": {},
   "outputs": [
    {
     "data": {
      "text/plain": [
       "(1992, 18)"
      ]
     },
     "execution_count": 2,
     "metadata": {},
     "output_type": "execute_result"
    }
   ],
   "source": [
    "globaltemp=pd.read_csv('DataSet/GlobalTemperatures 2.csv',parse_dates=['dt','YEAR'])\n",
    "date = globaltemp['YEAR']\n",
    "globaltemp.shape"
   ]
  },
  {
   "cell_type": "code",
   "execution_count": 3,
   "id": "governing-michigan",
   "metadata": {},
   "outputs": [
    {
     "data": {
      "text/plain": [
       "Index(['dt', 'LandAverageTemperature', 'LandAverageTemperatureUncertainty',\n",
       "       'LandMaxTemperature', 'LandMaxTemperatureUncertainty',\n",
       "       'LandMinTemperature', 'LandMinTemperatureUncertainty',\n",
       "       'LandAndOceanAverageTemperature',\n",
       "       'LandAndOceanAverageTemperatureUncertainty', 'Unnamed: 9',\n",
       "       'Unnamed: 10', 'Unnamed: 11', 'Unnamed: 12', 'YEAR', 'Unnamed: 14',\n",
       "       'Unnamed: 15', 'Unnamed: 16', 'Unnamed: 17'],\n",
       "      dtype='object')"
      ]
     },
     "execution_count": 3,
     "metadata": {},
     "output_type": "execute_result"
    }
   ],
   "source": [
    "globaltemp.columns"
   ]
  },
  {
   "cell_type": "code",
   "execution_count": 4,
   "id": "instrumental-teens",
   "metadata": {},
   "outputs": [],
   "source": [
    "globaltemp=globaltemp.drop(columns=['YEAR','Unnamed: 9','LandAndOceanAverageTemperatureUncertainty','LandMinTemperatureUncertainty','LandAverageTemperatureUncertainty','LandMaxTemperatureUncertainty','Unnamed: 10','Unnamed: 11','Unnamed: 12','Unnamed: 14','Unnamed: 15','Unnamed: 16','Unnamed: 17'],axis=1)"
   ]
  },
  {
   "cell_type": "code",
   "execution_count": 5,
   "id": "arranged-attraction",
   "metadata": {},
   "outputs": [
    {
     "data": {
      "text/plain": [
       "dt                                0\n",
       "LandAverageTemperature            0\n",
       "LandMaxTemperature                0\n",
       "LandMinTemperature                0\n",
       "LandAndOceanAverageTemperature    0\n",
       "dtype: int64"
      ]
     },
     "execution_count": 5,
     "metadata": {},
     "output_type": "execute_result"
    }
   ],
   "source": [
    "globaltemp.isnull().sum()"
   ]
  },
  {
   "cell_type": "code",
   "execution_count": 6,
   "id": "transparent-johnston",
   "metadata": {},
   "outputs": [],
   "source": [
    "\n",
    "def wrangle(df):\n",
    "\n",
    "#For fahrenheit values\n",
    "#     def convertTemp(x):\n",
    "#         x=(x*1.8)+32\n",
    "#         return float(x)\n",
    "\n",
    "\n",
    "\n",
    "#     df['LandAverageTemperature']=df['LandAverageTemperature'].apply(convertTemp)\n",
    "#     df['LandMaxTemperature']=df['LandMaxTemperature'].apply(convertTemp)\n",
    "#     df['LandMinTemperature']=df['LandMinTemperature'].apply(convertTemp)\n",
    "#     df['LandAndOceanAverageTemperature']=df['LandAndOceanAverageTemperature'].apply(convertTemp)\n",
    "    \n",
    "    df[\"dt\"]=pd.to_datetime(df[\"dt\"])\n",
    "    df[\"Month\"]=df[\"dt\"].dt.month\n",
    "    df[\"Year\"]=df[\"dt\"].dt.year\n",
    "    df=df.drop(\"dt\",axis=1)\n",
    "    df=df.drop(\"Month\",axis=1)\n",
    "    df=df[df.Year>=1850]\n",
    "    df=df.set_index(['Year'])\n",
    "    #date=df.iloc[:,:0]\n",
    "    \n",
    "    \n",
    "    df=df.dropna()\n",
    "    \n",
    "    return df\n",
    "\n",
    "\n"
   ]
  },
  {
   "cell_type": "code",
   "execution_count": 7,
   "id": "mighty-badge",
   "metadata": {},
   "outputs": [],
   "source": [
    "globaltemp=wrangle(globaltemp)"
   ]
  },
  {
   "cell_type": "code",
   "execution_count": 8,
   "id": "controlling-venture",
   "metadata": {},
   "outputs": [
    {
     "data": {
      "text/plain": [
       "Index(['LandAverageTemperature', 'LandMaxTemperature', 'LandMinTemperature',\n",
       "       'LandAndOceanAverageTemperature'],\n",
       "      dtype='object')"
      ]
     },
     "execution_count": 8,
     "metadata": {},
     "output_type": "execute_result"
    }
   ],
   "source": [
    "globaltemp.columns"
   ]
  },
  {
   "cell_type": "code",
   "execution_count": 9,
   "id": "based-milwaukee",
   "metadata": {},
   "outputs": [
    {
     "data": {
      "text/plain": [
       "(1992, 4)"
      ]
     },
     "execution_count": 9,
     "metadata": {},
     "output_type": "execute_result"
    }
   ],
   "source": [
    "globaltemp.shape"
   ]
  },
  {
   "cell_type": "code",
   "execution_count": 10,
   "id": "running-flooring",
   "metadata": {
    "scrolled": true
   },
   "outputs": [
    {
     "data": {
      "text/plain": [
       "LandAverageTemperature            0\n",
       "LandMaxTemperature                0\n",
       "LandMinTemperature                0\n",
       "LandAndOceanAverageTemperature    0\n",
       "dtype: int64"
      ]
     },
     "execution_count": 10,
     "metadata": {},
     "output_type": "execute_result"
    }
   ],
   "source": [
    "globaltemp.isnull().sum()"
   ]
  },
  {
   "cell_type": "code",
   "execution_count": 11,
   "id": "oriented-weekly",
   "metadata": {},
   "outputs": [
    {
     "data": {
      "text/plain": [
       "<function matplotlib.pyplot.show(close=None, block=None)>"
      ]
     },
     "execution_count": 11,
     "metadata": {},
     "output_type": "execute_result"
    },
    {
     "data": {
      "image/png": "[encoded data removed]",
      "text/plain": [
       "<Figure size 432x288 with 2 Axes>"
      ]
     },
     "metadata": {
      "needs_background": "light"
     },
     "output_type": "display_data"
    }
   ],
   "source": [
    "corrmatrix=globaltemp.corr()\n",
    "sns.heatmap(corrmatrix,annot=True)\n",
    "plt.show"
   ]
  },
  {
   "cell_type": "code",
   "execution_count": 12,
   "id": "outstanding-coverage",
   "metadata": {},
   "outputs": [],
   "source": [
    "target='LandAndOceanAverageTemperature'\n",
    "y=globaltemp[target]\n",
    "x=globaltemp[['LandAverageTemperature','LandMaxTemperature','LandMinTemperature']]"
   ]
  },
  {
   "cell_type": "code",
   "execution_count": 13,
   "id": "pacific-profit",
   "metadata": {},
   "outputs": [],
   "source": [
    "from sklearn.model_selection import train_test_split\n",
    "x_train,x_test,y_train,y_test=train_test_split(x,y,test_size=0.25,random_state=10)"
   ]
  },
  {
   "cell_type": "code",
   "execution_count": 14,
   "id": "fewer-slave",
   "metadata": {},
   "outputs": [
    {
     "name": "stdout",
     "output_type": "stream",
     "text": [
      "(1494, 3)\n",
      "(498, 3)\n",
      "(1494,)\n",
      "(498,)\n"
     ]
    }
   ],
   "source": [
    "print(x_train.shape)\n",
    "print(x_test.shape)\n",
    "print(y_train.shape)\n",
    "print(y_test.shape)"
   ]
  },
  {
   "cell_type": "code",
   "execution_count": 15,
   "id": "vulnerable-wallet",
   "metadata": {},
   "outputs": [
    {
     "data": {
      "text/plain": [
       "Pipeline(steps=[('selectkbest', SelectKBest(k='all')),\n",
       "                ('standardscaler', StandardScaler()),\n",
       "                ('randomforestregressor',\n",
       "                 RandomForestRegressor(max_depth=50, random_state=77))])"
      ]
     },
     "execution_count": 15,
     "metadata": {},
     "output_type": "execute_result"
    }
   ],
   "source": [
    "from sklearn.preprocessing import PolynomialFeatures\n",
    "from sklearn.feature_selection import SelectKBest\n",
    "from sklearn.preprocessing import StandardScaler\n",
    "from sklearn.ensemble import RandomForestRegressor\n",
    "from sklearn.pipeline import make_pipeline\n",
    "from sklearn.linear_model import LinearRegression\n",
    "\n",
    "forestmodel=make_pipeline(\n",
    "    SelectKBest(k=\"all\"),\n",
    "    StandardScaler(),\n",
    "    RandomForestRegressor(\n",
    "                            n_estimators=100,\n",
    "                            max_depth=50,\n",
    "                            random_state=77)\n",
    ")\n",
    "\n",
    "\n",
    "\n",
    "forestmodel.fit(x_train,y_train)\n"
   ]
  },
  {
   "cell_type": "code",
   "execution_count": 16,
   "id": "pleasant-bleeding",
   "metadata": {},
   "outputs": [
    {
     "name": "stdout",
     "output_type": "stream",
     "text": [
      "Random Forest Regressor Model Prediction Accuracy 99.1 %.\n"
     ]
    }
   ],
   "source": [
    "y_pred=forestmodel.predict(x_test)\n",
    "\n",
    "errors=abs(y_pred-y_test)\n",
    "mape=100*(errors/y_train)\n",
    "accuracy=100-np.mean(mape)\n",
    "print(\"Random Forest Regressor Model Prediction Accuracy\",round(accuracy,2),\"%.\")"
   ]
  },
  {
   "cell_type": "code",
   "execution_count": 29,
   "id": "marked-aluminum",
   "metadata": {},
   "outputs": [
    {
     "data": {
      "image/png": "[encoded data removed]",
      "text/plain": [
       "<Figure size 720x504 with 1 Axes>"
      ]
     },
     "metadata": {
      "needs_background": "light"
     },
     "output_type": "display_data"
    },
    {
     "data": {
      "text/plain": [
       "<Figure size 432x288 with 0 Axes>"
      ]
     },
     "metadata": {},
     "output_type": "display_data"
    }
   ],
   "source": [
    "plt.figure(figsize=(10, 7))\n",
    "\n",
    "\n",
    "ax = sns.distplot(y, hist=False, color=\"r\", label=\"Actual Values\")\n",
    "sns.distplot(y_pred, hist=False, color=\"b\", label=\"Predicted Values\", ax=ax )\n",
    "plt.title('Actual vs Predicted Values for GlobalPrediction')\n",
    "\n",
    "plt.legend(loc=\"upper left\")\n",
    "\n",
    "plt.show()\n",
    "plt.close()\n",
    "plt.savefig(\"Actual vs Predicted Values for GlobalPrediction\")"
   ]
  },
  {
   "cell_type": "code",
   "execution_count": 30,
   "id": "developed-cincinnati",
   "metadata": {},
   "outputs": [],
   "source": [
    "year_temp=[]\n",
    "for i in range(len(date)):\n",
    "    year_temp.append(date[i].year)\n",
    "year_temp = np.array(year_temp)\n",
    "year_temp = year_temp.reshape(-100,1)"
   ]
  },
  {
   "cell_type": "code",
   "execution_count": 31,
   "id": "together-prize",
   "metadata": {},
   "outputs": [
    {
     "data": {
      "text/plain": [
       "PolynomialFeatures(degree=3)"
      ]
     },
     "execution_count": 31,
     "metadata": {},
     "output_type": "execute_result"
    }
   ],
   "source": [
    "poly_reg = PolynomialFeatures(degree = 3)\n",
    "year_tempp=poly_reg.fit_transform(year_temp)\n",
    "poly_reg.fit(year_tempp,y)"
   ]
  },
  {
   "cell_type": "code",
   "execution_count": 32,
   "id": "third-swedish",
   "metadata": {},
   "outputs": [
    {
     "data": {
      "text/plain": [
       "Pipeline(steps=[('selectkbest', SelectKBest(k='all')),\n",
       "                ('standardscaler', StandardScaler()),\n",
       "                ('randomforestregressor',\n",
       "                 RandomForestRegressor(max_depth=50, random_state=77))])"
      ]
     },
     "execution_count": 32,
     "metadata": {},
     "output_type": "execute_result"
    }
   ],
   "source": [
    "forestmodel.fit(year_tempp, y)"
   ]
  },
  {
   "cell_type": "code",
   "execution_count": 33,
   "id": "enhanced-original",
   "metadata": {},
   "outputs": [
    {
     "name": "stdout",
     "output_type": "stream",
     "text": [
      "[16.08097981]\n"
     ]
    }
   ],
   "source": [
    "print(forestmodel.predict(poly_reg.fit_transform([[2015]])))"
   ]
  },
  {
   "cell_type": "code",
   "execution_count": 34,
   "id": "advised-warrant",
   "metadata": {},
   "outputs": [
    {
     "name": "stdout",
     "output_type": "stream",
     "text": [
      "The Mean Squared Error is  1.5353\n"
     ]
    }
   ],
   "source": [
    "z = forestmodel.predict(poly_reg.fit_transform(year_temp))\n",
    "\n",
    "from sklearn.metrics import mean_squared_error\n",
    "print(\"The Mean Squared Error is \",round(mean_squared_error(y, z),4))"
   ]
  },
  {
   "cell_type": "code",
   "execution_count": 35,
   "id": "hidden-double",
   "metadata": {},
   "outputs": [
    {
     "data": {
      "text/plain": [
       "PolynomialFeatures(degree=3)"
      ]
     },
     "execution_count": 35,
     "metadata": {},
     "output_type": "execute_result"
    }
   ],
   "source": [
    "year_tempp=poly_reg.fit_transform(year_temp)\n",
    "poly_reg.fit(year_tempp,y)"
   ]
  },
  {
   "cell_type": "code",
   "execution_count": 36,
   "id": "occupied-agreement",
   "metadata": {},
   "outputs": [
    {
     "data": {
      "text/plain": [
       "LinearRegression()"
      ]
     },
     "execution_count": 36,
     "metadata": {},
     "output_type": "execute_result"
    }
   ],
   "source": [
    "lin_reg = LinearRegression()\n",
    "lin_reg.fit(year_tempp, y)"
   ]
  },
  {
   "cell_type": "code",
   "execution_count": 37,
   "id": "tropical-costume",
   "metadata": {},
   "outputs": [
    {
     "name": "stdout",
     "output_type": "stream",
     "text": [
      "[15.89770826]\n"
     ]
    }
   ],
   "source": [
    "print(lin_reg.predict(poly_reg.fit_transform([[2015]])))"
   ]
  },
  {
   "cell_type": "code",
   "execution_count": 38,
   "id": "creative-rouge",
   "metadata": {},
   "outputs": [
    {
     "name": "stdout",
     "output_type": "stream",
     "text": [
      "The Mean Squared Error is  1.5478\n"
     ]
    }
   ],
   "source": [
    "z = lin_reg.predict(poly_reg.fit_transform(year_temp))\n",
    "print(\"The Mean Squared Error is \",round(mean_squared_error(y, z),4))"
   ]
  }
 ],
 "metadata": {
  "kernelspec": {
   "display_name": "Python 3",
   "language": "python",
   "name": "python3"
  },
  "language_info": {
   "codemirror_mode": {
    "name": "ipython",
    "version": 3
   },
   "file_extension": ".py",
   "mimetype": "text/x-python",
   "name": "python",
   "nbconvert_exporter": "python",
   "pygments_lexer": "ipython3",
   "version": "3.9.2"
  }
 },
 "nbformat": 4,
 "nbformat_minor": 5
}
